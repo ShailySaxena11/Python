{
 "cells": [
  {
   "cell_type": "markdown",
   "id": "5fad3b2a",
   "metadata": {
    "id": "5fad3b2a"
   },
   "source": [
    "# Assessment - 2 Gradable\n",
    "\n",
    "- Each question carries 3 marks\n",
    "- Marks will be assigned in terms of:\n",
    "    \n",
    "    **1. Expected output**\n",
    "    \n",
    "    **2. Quality and Explainability of code**\n",
    "\n",
    "    ***Go back through the script and type a comment above each line explaining in English what it does.***\n",
    "\n",
    "    **3. Copied code, if found, will result in 0 marks for that question. To avoid this make as much comments in the code to explain the approach**"
   ]
  },
  {
   "cell_type": "markdown",
   "id": "03363a58",
   "metadata": {
    "id": "03363a58"
   },
   "source": [
    "### 1.\n",
    "\n",
    "Write a Python program to get a list, sorted in increasing order by the last element in each tuple from a given list of non-empty tuples.\n",
    "\n",
    "Sample List : [(2, 5), (1, 2), (4, 4), (2, 3), (2, 1)]\n",
    "Expected Result : [(2, 1), (1, 2), (2, 3), (4, 4), (2, 5)]"
   ]
  },
  {
   "cell_type": "code",
   "execution_count": 83,
   "id": "73d7418b",
   "metadata": {
    "id": "73d7418b"
   },
   "outputs": [
    {
     "name": "stdout",
     "output_type": "stream",
     "text": [
      "[[2, 5], [1, 2], [4, 4], [2, 3], [2, 1]]\n",
      "[[2, 1], [2, 3], [4, 4], [1, 2], [2, 5]]\n"
     ]
    }
   ],
   "source": [
    "l2=[]#take an empty list 'l2'\n",
    "l=[(2,5),(1,2),(4,4),(2,3),(2,1)]#here we have tuples in a list 'l'\n",
    "for i in l:#iterate the value of tuple in list 'l'\n",
    "    l1=list(i)#then convert tuples in list\n",
    "    l2.append(l1)#and insert in empty list 'l2'\n",
    "print(l2)#then print the list 'l2'\n",
    "l2.reverse()#then apply reverse method on list 'l2'\n",
    "print(l2)#then print the list 'l2'"
   ]
  },
  {
   "cell_type": "markdown",
   "id": "3d5efe73",
   "metadata": {
    "id": "3d5efe73"
   },
   "source": [
    "### 2. \n",
    "\n",
    "Grab ``StarAgile`` from the following Dictionaries\n",
    "\n",
    "d_difficult = {'k1':[{'nest_key':['this is deep',['StarAgile']]}]}\n",
    "\n",
    "d_irritating = {'k1':[1,2,{'k2':['this is not easy',{'VeryIrriating':[1,2,['StarAgile']]}]}]}"
   ]
  },
  {
   "cell_type": "code",
   "execution_count": 1,
   "id": "9fb35ce9",
   "metadata": {
    "id": "9fb35ce9"
   },
   "outputs": [
    {
     "data": {
      "text/plain": [
       "'starsgile'"
      ]
     },
     "execution_count": 1,
     "metadata": {},
     "output_type": "execute_result"
    }
   ],
   "source": [
    "d_difficult={'k1':[{'nest_key':['this is deep',['starsgile']]}]}\n",
    "d_difficult['k1'][0]#first we are taking the [0] index value of key 'k1', which is 'nest_key'\n",
    "d_difficult['k1'][0]['nest_key'][1][0]#then we are taking [1] index of key 'nest_key', which is 'staragile' but we are taking it with [0] index as we dont want our output in list\n"
   ]
  },
  {
   "cell_type": "code",
   "execution_count": 3,
   "id": "aa0bd1db",
   "metadata": {},
   "outputs": [
    {
     "data": {
      "text/plain": [
       "'Staragile'"
      ]
     },
     "execution_count": 3,
     "metadata": {},
     "output_type": "execute_result"
    }
   ],
   "source": [
    "d_irritating={'k1':[1,2,{'k2':['this is not easy',{'veryIrriating':[1,2,['Staragile']]}]}]}\n",
    "d_irritating['k1'][2]['k2'][1]['veryIrriating'][2][0]#Similar to the prev. one we are taking [2] index of key 'k1',which is 'k2' and then we are taking [1] index of 'k2' which is 'veryIrriating' and then we are taking [2] index of key 'veryIrriating' with [0] index as we dont want result in list.\n"
   ]
  },
  {
   "cell_type": "markdown",
   "id": "0540a188",
   "metadata": {
    "id": "0540a188"
   },
   "source": [
    "### 3.\n",
    "\n",
    "Write a program to accept a string from the user and display characters that are present at an even index number.\n",
    "\n",
    "For example, str = \"judgemental\" so you should display ‘j’, ‘d’, ‘e’, ‘e’, ‘t’, ‘l’."
   ]
  },
  {
   "cell_type": "code",
   "execution_count": 5,
   "id": "21f5b9dd",
   "metadata": {
    "id": "21f5b9dd"
   },
   "outputs": [
    {
     "name": "stdout",
     "output_type": "stream",
     "text": [
      "Enter a Word :-python\n"
     ]
    },
    {
     "data": {
      "text/plain": [
       "['p', 't', 'o']"
      ]
     },
     "execution_count": 5,
     "metadata": {},
     "output_type": "execute_result"
    }
   ],
   "source": [
    "a=input(\"Enter a Word :-\")# first we are taking a word as an input\n",
    "a1=list(a)# then we are casting it in list as we want index of our input\n",
    "a1[0::2]# then we are giving range starting with an even index which is [0] going till the end by default and make it a jump by 2 as we want only even indexing"
   ]
  },
  {
   "cell_type": "markdown",
   "id": "e0884cde",
   "metadata": {
    "id": "e0884cde"
   },
   "source": [
    "### 4. \n",
    "\n",
    "Convert the Float Value of '3.8' into Integer, Complex, Binary and Hexidecimal format"
   ]
  },
  {
   "cell_type": "code",
   "execution_count": 7,
   "id": "99555c16",
   "metadata": {
    "id": "99555c16"
   },
   "outputs": [
    {
     "data": {
      "text/plain": [
       "float"
      ]
     },
     "execution_count": 7,
     "metadata": {},
     "output_type": "execute_result"
    }
   ],
   "source": [
    "a=3.8# here is our given value\n",
    "type(a)# whose datatype is float"
   ]
  },
  {
   "cell_type": "code",
   "execution_count": 8,
   "id": "f95d148c",
   "metadata": {},
   "outputs": [
    {
     "data": {
      "text/plain": [
       "int"
      ]
     },
     "execution_count": 8,
     "metadata": {},
     "output_type": "execute_result"
    }
   ],
   "source": [
    "a1=int(a)# we are converting it in integer type by casting method \n",
    "type(a1)# now checking the type of our data, it becomes integer after casting"
   ]
  },
  {
   "cell_type": "code",
   "execution_count": 9,
   "id": "7fb79b4c",
   "metadata": {},
   "outputs": [
    {
     "data": {
      "text/plain": [
       "complex"
      ]
     },
     "execution_count": 9,
     "metadata": {},
     "output_type": "execute_result"
    }
   ],
   "source": [
    "a2=complex(a)# now we are making our data complex type by again same method 'casting'\n",
    "type(a2)# then we are checking the datatype it shows complex datatype"
   ]
  },
  {
   "cell_type": "code",
   "execution_count": 10,
   "id": "d8b09d17",
   "metadata": {},
   "outputs": [
    {
     "data": {
      "text/plain": [
       "str"
      ]
     },
     "execution_count": 10,
     "metadata": {},
     "output_type": "execute_result"
    }
   ],
   "source": [
    "a3=bin(a1)# now we are converting our data into binary form, and we have a bin() in python to convert our datatype into binary but we can't change the float type data into binary so we will first convert our data into an integer type (which we have as an 'a1') and now we are coverting our integer type data into 'binary'.\n",
    "type(a3)# then when we are checking our datatype it will show 'string' because binary datatype is shown as 'str' datatype in python"
   ]
  },
  {
   "cell_type": "code",
   "execution_count": 11,
   "id": "88e0a80c",
   "metadata": {},
   "outputs": [
    {
     "data": {
      "text/plain": [
       "str"
      ]
     },
     "execution_count": 11,
     "metadata": {},
     "output_type": "execute_result"
    }
   ],
   "source": [
    "a4=hex(a1)# now we are changing our data into hexadecimal,again we cant change float type of data so we are converting our integer type of data which is 'a1' with the help of hex method.\n",
    "type(a4)# then we are checking the datatype it will also show as 'str'"
   ]
  },
  {
   "cell_type": "markdown",
   "id": "25187f2c",
   "metadata": {
    "id": "25187f2c"
   },
   "source": [
    "### 5. \n",
    "\n",
    "Write a program to accept five names from the user and store it in a Tuple 'T1'"
   ]
  },
  {
   "cell_type": "code",
   "execution_count": 12,
   "id": "7e9e98e3",
   "metadata": {
    "id": "7e9e98e3"
   },
   "outputs": [
    {
     "name": "stdout",
     "output_type": "stream",
     "text": [
      "Enter First name Apple\n",
      "Enter Second name boy\n",
      "Enter Third name cat\n",
      "Enter Forth name dog\n",
      "Enter Fifth name elephant\n"
     ]
    },
    {
     "data": {
      "text/plain": [
       "('Apple', 'boy', 'cat', 'dog', 'elephant')"
      ]
     },
     "execution_count": 12,
     "metadata": {},
     "output_type": "execute_result"
    }
   ],
   "source": [
    "a=input(\"Enter First name \")\n",
    "b=input(\"Enter Second name \")\n",
    "c=input(\"Enter Third name \")\n",
    "d=input(\"Enter Forth name \")\n",
    "e=input(\"Enter Fifth name \") # first we have taken the five name as as string from user\n",
    "f=(a,b,c,d,e)# then we combined it and make it as a list\n",
    "t1=tuple(f)# and then we changed it in tuple \n",
    "t1# and at last we print the result which is stored in variable 't1'"
   ]
  }
 ],
 "metadata": {
  "colab": {
   "provenance": []
  },
  "kernelspec": {
   "display_name": "Python 3 (ipykernel)",
   "language": "python",
   "name": "python3"
  },
  "language_info": {
   "codemirror_mode": {
    "name": "ipython",
    "version": 3
   },
   "file_extension": ".py",
   "mimetype": "text/x-python",
   "name": "python",
   "nbconvert_exporter": "python",
   "pygments_lexer": "ipython3",
   "version": "3.9.13"
  }
 },
 "nbformat": 4,
 "nbformat_minor": 5
}
