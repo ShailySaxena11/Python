{
 "cells": [
  {
   "cell_type": "markdown",
   "id": "b462dadb",
   "metadata": {
    "id": "b462dadb"
   },
   "source": [
    "# Iterative Statements\n",
    "- Write solution of each question in the cell given below the corresponsing question."
   ]
  },
  {
   "cell_type": "markdown",
   "id": "f5aefe41",
   "metadata": {
    "id": "f5aefe41"
   },
   "source": [
    "#### 1. Tom and Bob are playing a game of dice. Each time a multiple of two comes up Tom gets a point and if a multiple of 3 comes up bob gets a point. If a multiple of both comes up then a point is deducted from both. Write a program to take a list as input consisting of 10 outcomes of the dice throw. Print the scores of both Tom and bob and the winner."
   ]
  },
  {
   "cell_type": "code",
   "execution_count": 12,
   "id": "62bf16f1",
   "metadata": {
    "id": "62bf16f1"
   },
   "outputs": [
    {
     "name": "stdout",
     "output_type": "stream",
     "text": [
      " Enter a number comes at dice :- 1\n",
      " Enter a number comes at dice :- 2\n",
      " Enter a number comes at dice :- 3\n",
      " Enter a number comes at dice :- 4\n",
      " Enter a number comes at dice :- 5\n",
      " Enter a number comes at dice :- 6\n",
      " Enter a number comes at dice :- 2\n",
      " Enter a number comes at dice :- 3\n",
      " Enter a number comes at dice :- 6\n",
      " Enter a number comes at dice :- 2\n",
      "[1, 2, 3, 4, 5, 6, 2, 3, 6, 2]\n",
      "Total Score of Tom is :-  2\n",
      "Total Score of Bob is :-  0\n",
      "Tom is Winner\n"
     ]
    }
   ],
   "source": [
    "a=1#first i take variable 'a' with the value of '1'\n",
    "l=[]#then i take an empty list 'l'\n",
    "c1=0#then i mention a varibale 'c1=0'\n",
    "c2=0#again mention another varibale 'c2=0'\n",
    "while a<=10:#then give a while loop condition that loop will be running until the value of 'a' will come at equal to 10\n",
    "        d=int(input(\" Enter a number comes at dice :- \"))#then take number of dice comes ten times\n",
    "        if d<=6:#if the value of dice is less than or equal to 6\n",
    "            l.append(d)#it will inserted in list 'l' with the help of append method\n",
    "        else:#otherwise \n",
    "            print(\" Please enter valid input\")#it will print the message to give valid input, because dice doesn't contain more than 6 number\n",
    "        a+=1#then we will iterate the value of a by '1' for running the while loop\n",
    "        \n",
    "print(l)#then i show the list 'l'\n",
    "\n",
    "for i in l:#then i iterate the value of list 'l'\n",
    "    if i%2==0 and i%3==0:#and then we will check that the data or value of 'i' will be diivisible by '2' and '3' both\n",
    "        c1=c1-1#if yes then the score of both 'tom' and 'bob' got deducted by '1'\n",
    "        c2=c2-1\n",
    "    elif i%2==0:#else if the value of list is divisible by '2' only \n",
    "        c1=c1+1#then the score of 'tom' got increased by '1'\n",
    "    elif i%3==0:#else if the value of list is divisible by '3' only \n",
    "        c2=c2+1#then the score of 'bob' got increased by '1'\n",
    "    else:#otherwise\n",
    "        continue#the data will skipped by 'continue' keyword\n",
    "        \n",
    "print(\"Total Score of Tom is :- \",c1)#then show the total score of 'Tom'\n",
    "\n",
    "print(\"Total Score of Bob is :- \",c2)#then show the total score of 'Bob'\n",
    "\n",
    "if c1>c2:#if score of 'tom' c1 is bigger than 'bob' c2\n",
    "    print(\"Tom is Winner\")#then 'tom' is winner\n",
    "elif c1<c2:#else if the score of 'bob' is greater than 'tom'\n",
    "    print(\"Bob is winner\")#then 'bob' is winner\n",
    "else:#otherwise\n",
    "    print(\"Both are winner because both are got same point\")#both 'tom' and 'bob' is winner,because it will be draw"
   ]
  },
  {
   "cell_type": "markdown",
   "id": "57ec6a53",
   "metadata": {
    "id": "57ec6a53"
   },
   "source": [
    "#### 2. Write a program to take a list of 10 numbers as input in single line and find out the largest element."
   ]
  },
  {
   "cell_type": "code",
   "execution_count": 25,
   "id": "6ebea151",
   "metadata": {
    "id": "6ebea151"
   },
   "outputs": [
    {
     "name": "stdout",
     "output_type": "stream",
     "text": [
      "Enter a number :- 80\n",
      "Enter a number :- 15\n",
      "Enter a number :- 70\n",
      "Enter a number :- 45\n",
      "Enter a number :- 10\n",
      "Enter a number :- 99\n",
      "Enter a number :- 65\n",
      "Enter a number :- 69\n",
      "Enter a number :- 2\n",
      "Enter a number :- 14\n",
      "[80, 15, 70, 45, 10, 99, 65, 69, 2, 14]\n",
      "Largest element is  99\n"
     ]
    }
   ],
   "source": [
    "a=1#first i take a variable 'a=1'\n",
    "c=[]#then i take an empty list 'c'\n",
    "while a<=10:#then i check a condition in while loop that the value of 'a' is less than or equal to 10\n",
    "    b=int(input(\"Enter a number :- \"))#then i take data from users in variable 'b'\n",
    "    c.append(b)#then store that data in list 'c' with the help of append method\n",
    "    a+=1#and then iterate the value of 'a' by '1'\n",
    "print(c)#then i show data of list 'c'\n",
    "c.sort()#then i sort the data of list 'c' with the help of sort method\n",
    "print(\"Largest element is \",c[9])#then show the result of largest element which i found by the last index because in sort method the largest data will be on last index"
   ]
  },
  {
   "cell_type": "markdown",
   "id": "ee2cce37",
   "metadata": {
    "id": "ee2cce37"
   },
   "source": [
    "#### 3. Write a program to take a number as input and find out whether it is prime or not."
   ]
  },
  {
   "cell_type": "code",
   "execution_count": 6,
   "id": "b9d9d6d8",
   "metadata": {
    "id": "b9d9d6d8"
   },
   "outputs": [
    {
     "name": "stdout",
     "output_type": "stream",
     "text": [
      "Enter a number :-12\n",
      "Not prime\n",
      "Not prime\n"
     ]
    }
   ],
   "source": [
    "x=int(input(\"Enter a number :-\"))#first i take an input from user in variable 'x'\n",
    "if x==0 or x==1 or x==2:#if the value of 'x' is '0' or '1' or '2'\n",
    "    print(\"Not prime\")#then the value is not prime\n",
    "for i in range(3,x):#then i iterate the data from '2' to the 'x'\n",
    "    if i%2==0:#and then check the data is divisible by '2',if it is then it will not prime since it will be 'even'\n",
    "        print(\"Not prime\")#hence print 'not prime'\n",
    "        break#then we will break the loop\n",
    "    else:#otherwise\n",
    "        if i==x:#if the value of 'i' will become equal to the value of 'x'\n",
    "            print(\" Prime Number\")#then it is prime\n",
    "        else:#else\n",
    "            print(\"Not prime\")#it is not prime"
   ]
  },
  {
   "cell_type": "markdown",
   "id": "07d5a484",
   "metadata": {
    "id": "07d5a484"
   },
   "source": [
    "#### 4. Take a list and a number as input, print all consecutive pairs of two numbers from the list having sum equal to the given number."
   ]
  },
  {
   "cell_type": "code",
   "execution_count": 14,
   "id": "e3acd75f",
   "metadata": {
    "id": "e3acd75f"
   },
   "outputs": [
    {
     "name": "stdout",
     "output_type": "stream",
     "text": [
      "Enter a number :-8\n",
      "Enter a size of list5\n",
      "Enter a list number1\n",
      "Enter a list number2\n",
      "Enter a list number6\n",
      "Enter a list number2\n",
      "Enter a list number6\n",
      "[1, 2, 6, 2, 6]\n",
      "Sum of consecutive number is  8  and number is  2  and  6\n",
      "Sum of consecutive number is  8  and number is  6  and  2\n",
      "Sum of consecutive number is  8  and number is  2  and  6\n"
     ]
    },
    {
     "ename": "IndexError",
     "evalue": "list index out of range",
     "output_type": "error",
     "traceback": [
      "\u001b[1;31m---------------------------------------------------------------------------\u001b[0m",
      "\u001b[1;31mIndexError\u001b[0m                                Traceback (most recent call last)",
      "\u001b[1;32m~\\AppData\\Local\\Temp\\ipykernel_6016\\3825093408.py\u001b[0m in \u001b[0;36m<module>\u001b[1;34m\u001b[0m\n\u001b[0;32m     10\u001b[0m \u001b[0mi\u001b[0m\u001b[1;33m=\u001b[0m\u001b[1;36m0\u001b[0m\u001b[1;33m\u001b[0m\u001b[1;33m\u001b[0m\u001b[0m\n\u001b[0;32m     11\u001b[0m \u001b[1;32mwhile\u001b[0m \u001b[0mi\u001b[0m\u001b[1;33m<\u001b[0m\u001b[0mb\u001b[0m\u001b[1;33m:\u001b[0m\u001b[1;33m\u001b[0m\u001b[1;33m\u001b[0m\u001b[0m\n\u001b[1;32m---> 12\u001b[1;33m     \u001b[0mf\u001b[0m\u001b[1;33m=\u001b[0m\u001b[0mc\u001b[0m\u001b[1;33m[\u001b[0m\u001b[0mi\u001b[0m\u001b[1;33m]\u001b[0m\u001b[1;33m+\u001b[0m\u001b[0mc\u001b[0m\u001b[1;33m[\u001b[0m\u001b[0mi\u001b[0m\u001b[1;33m+\u001b[0m \u001b[1;36m1\u001b[0m\u001b[1;33m]\u001b[0m\u001b[1;33m\u001b[0m\u001b[1;33m\u001b[0m\u001b[0m\n\u001b[0m\u001b[0;32m     13\u001b[0m     \u001b[1;32mif\u001b[0m \u001b[0ma\u001b[0m\u001b[1;33m==\u001b[0m\u001b[0mf\u001b[0m\u001b[1;33m:\u001b[0m\u001b[1;33m\u001b[0m\u001b[1;33m\u001b[0m\u001b[0m\n\u001b[0;32m     14\u001b[0m         \u001b[0mprint\u001b[0m\u001b[1;33m(\u001b[0m\u001b[1;34m\"Sum of consecutive number is \"\u001b[0m\u001b[1;33m,\u001b[0m\u001b[0mf\u001b[0m\u001b[1;33m,\u001b[0m\u001b[1;34m\" and number is \"\u001b[0m\u001b[1;33m,\u001b[0m\u001b[0mc\u001b[0m\u001b[1;33m[\u001b[0m\u001b[0mi\u001b[0m\u001b[1;33m]\u001b[0m\u001b[1;33m,\u001b[0m\u001b[1;34m\" and \"\u001b[0m\u001b[1;33m,\u001b[0m\u001b[0mc\u001b[0m\u001b[1;33m[\u001b[0m\u001b[0mi\u001b[0m\u001b[1;33m+\u001b[0m\u001b[1;36m1\u001b[0m\u001b[1;33m]\u001b[0m\u001b[1;33m)\u001b[0m\u001b[1;33m\u001b[0m\u001b[1;33m\u001b[0m\u001b[0m\n",
      "\u001b[1;31mIndexError\u001b[0m: list index out of range"
     ]
    }
   ],
   "source": [
    "a=int(input(\"Enter a number :-\"))#first i take an input of integer type in variable 'a'\n",
    "b=int(input(\"Enter a size of list\"))#then i take the size of list 'b'\n",
    "c=[]#then i take an empty list 'c'\n",
    "d=1#then i mention the variable 'd=1'\n",
    "while d<=b:#then i apply the while loop and give the condition until the value of 'd' is less and come at equal to the 'b'\n",
    "    e=int(input(\"Enter a list number\"))#then i take the data from user of list\n",
    "    c.append(e)#then import that data in list 'c' with the help of 'append method'\n",
    "    d+=1#then i iterate the value of 'd' by '1'\n",
    "print(c)#then i print list 'c'\n",
    "i=0#then i mention the value of 'i=0'\n",
    "while i<b:#then apply while loop with the condition that 'i<b' that means it will run until the value of 'i' will be less than 'b'\n",
    "    f=c[i]+c[i+ 1]#then i store the sum of first index data and next one data into 'f' variable as followed by all\n",
    "    if a==f:#then will check if the value of 'a' is equal to the 'f'\n",
    "        print(\"Sum of consecutive number is \",f,\" and number is \",c[i],\" and \",c[i+1])#if yes then print the result the sum of the data and the data\n",
    "    i=i+1#then i iterate the value of 'i' by '1' to run the loop smoothly"
   ]
  },
  {
   "cell_type": "markdown",
   "id": "d2bc68d1",
   "metadata": {
    "id": "d2bc68d1"
   },
   "source": [
    "#### 5. Take a string as input and find out the number of words with even length and number of words with odd length."
   ]
  },
  {
   "cell_type": "code",
   "execution_count": 20,
   "id": "f273ca05",
   "metadata": {
    "id": "f273ca05"
   },
   "outputs": [
    {
     "name": "stdout",
     "output_type": "stream",
     "text": [
      "Enter a string : the world best country is my India\n",
      "Even length word is  3\n",
      "Odd length word is  4\n"
     ]
    }
   ],
   "source": [
    "el=0#take a variable 'el=0'\n",
    "ol=0#also take another variable 'ol=0'\n",
    "a=input(\"Enter a string : \")#then take an input from user as a string in 'a' variable\n",
    "a1=a.split()#then split that variable and store it in variable 'a1'\n",
    "for i in a1:#then iterate that variable so that every word of that variable will iterate in 'i'\n",
    "    if len(i)%2==0:#then check the length of 'i' is even or not with the help of 'len' function and 'if' keyword \n",
    "        el=el+1#if yes then store it in 'el' variable\n",
    "    else:#otherwise\n",
    "        ol=ol+1#store it in 'ol' variable\n",
    "print(\"Even length word is \",el)#and at last print or show the value of 'el'\n",
    "print(\"Odd length word is \",ol)#as well as 'ol'"
   ]
  },
  {
   "cell_type": "markdown",
   "id": "41da36a0",
   "metadata": {
    "id": "41da36a0"
   },
   "source": []
  },
  {
   "cell_type": "markdown",
   "id": "9bc04f36",
   "metadata": {
    "id": "9bc04f36"
   },
   "source": [
    "#### 7. Write a program to sort a given list using selection sort algorithm. (study selection sort and implement)"
   ]
  },
  {
   "cell_type": "code",
   "execution_count": 30,
   "id": "3abb8c1e",
   "metadata": {
    "id": "3abb8c1e"
   },
   "outputs": [
    {
     "name": "stdout",
     "output_type": "stream",
     "text": [
      "[4, 6, 11, 12, 19, 69, 81, 96]\n"
     ]
    }
   ],
   "source": [
    "a=[12,4,69,81,19,6,11,96]#first take a list 'a' with some values\n",
    "for i in range(0,len(a)-1):#then iterate from '0' to the one less than the length of list 'a'\n",
    "    for j in range(i+1,len(a)-1):#again iterate from the one more than the value of 'i' to the one less than the length of list 'a'\n",
    "        if a[i]>a[j]:#then check the value of 'i' index which is first index is greater than the value of 'j' index which is next to the 'i' and it follows till the last index\n",
    "            b=a[i]#if yes then swap the value of both the variable with the help of third varibale 'b',value of index 'i' will go in 'b' variable\n",
    "            a[i]=a[j]#then the variable at index 'i' will be empty so enter the value of index 'j' will store in 'i' index\n",
    "            a[j]=b#then the variable at index 'j' will be empty so enter the value of index 'i' which is in variable 'b' will store in 'j' index\n",
    "print(a)#at last print the list 'a'\n",
    "    "
   ]
  },
  {
   "cell_type": "markdown",
   "id": "d2cf1bab",
   "metadata": {
    "id": "d2cf1bab"
   },
   "source": [
    "#### 8. Write a program to sort a given list using bubble sort algorithm. (Study bubble sort and implement)"
   ]
  },
  {
   "cell_type": "code",
   "execution_count": 32,
   "id": "OJAUtZLmyvMk",
   "metadata": {
    "id": "OJAUtZLmyvMk"
   },
   "outputs": [
    {
     "name": "stdout",
     "output_type": "stream",
     "text": [
      "[1, 6, 6, 8, 12, 21, 69, 86]\n"
     ]
    }
   ],
   "source": [
    "a=[12,6,69,8,1,6,21,86]#first take a list 'a' with some values\n",
    "for i in range(0,len(a)):#then iterate from '0' to the length of list 'a'\n",
    "    for j in range(0,len(a)-1):#again iterate from '0' to the one less than the length of list 'a'\n",
    "        if a[j]>a[j+1]:#then check the value of 'j' index which is first index is greater than the value of 'j+1' index which is next to the 'i' and it follows as every index will by the next of that\n",
    "            b=a[j]#if yes then swap the value of both the variable with the help of third varibale 'b',value of index 'j' will go in 'b' variable\n",
    "            a[j]=a[j+1]#then the variable at index 'j' will be empty so enter the value of index 'j+1' will store in 'j' index\n",
    "            a[j+1]=b#then the variable at index 'j+1' will be empty so enter the value of index 'i' which is in variable 'b' will store in 'j+1' index\n",
    "print(a)#at last print the list 'a'"
   ]
  },
  {
   "cell_type": "markdown",
   "id": "1910df79",
   "metadata": {
    "id": "1910df79"
   },
   "source": [
    "#### 9. Take a string and a word and input. Find the frequenecy of occurrence of the word in the given string. (Without using any inbuilt function)"
   ]
  },
  {
   "cell_type": "code",
   "execution_count": 26,
   "id": "c50d4a3c",
   "metadata": {
    "id": "c50d4a3c"
   },
   "outputs": [
    {
     "name": "stdout",
     "output_type": "stream",
     "text": [
      "Enter a word : rain\n",
      "Enter a String : rain Rain go away\n",
      "Total number of word avaliable in String is :  2\n"
     ]
    }
   ],
   "source": [
    "count=0#first i will take a variable 'count=0'\n",
    "a=input(\"Enter a word : \")#then i will take a word as an input in variable 'a'\n",
    "b=input(\"Enter a String : \")#then i will take a string as an input in variable 'b'\n",
    "c=b.lower().split()#then i apply the method 'lower' and 'split' on string 'b' and store it in variable 'c'\n",
    "a.lower()#then i apply the method 'lower' on 'a'\n",
    "for i in c:#then i iterate each word of a string 'c' in 'i'\n",
    "    if(a==i):#and then check that the each word of string 'i' is same as the input letter 'a'\n",
    "        count=count+1#if yes then i increased count by '1'\n",
    "print(\"Total number of word avaliable in String is : \",count)#nd at last i show the result"
   ]
  },
  {
   "cell_type": "markdown",
   "id": "b05f15de",
   "metadata": {
    "id": "b05f15de"
   },
   "source": [
    "#### 10. Write a program to print the following pattern: "
   ]
  },
  {
   "cell_type": "code",
   "execution_count": null,
   "id": "5113af76",
   "metadata": {
    "id": "5113af76"
   },
   "outputs": [],
   "source": [
    "'''\n",
    "5 4 3 2 1\n",
    "  4 3 2 1\n",
    "    3 2 1\n",
    "      2 1\n",
    "        1\n",
    "'''\n",
    "print()"
   ]
  },
  {
   "cell_type": "code",
   "execution_count": 7,
   "id": "j7lsHqTI1-ZY",
   "metadata": {
    "id": "j7lsHqTI1-ZY"
   },
   "outputs": [
    {
     "name": "stdout",
     "output_type": "stream",
     "text": [
      "5 4 3 2 1 \r\n",
      "4 3 2 1 \r\n",
      "3 2 1 \r\n",
      "2 1 \r\n",
      "1 \r\n"
     ]
    }
   ],
   "source": [
    "r=1#first i take the value of 'r=1'\n",
    "for i in range(r,6,1):#then i iterate from 'r' to 5 with the help of 'range method' \n",
    "    for j in range(6-i,0,-1):#then i iterate from '6-1' to 0 with the help of 'range method' \n",
    "        print(j, end=' ')#then i print the value of 'j'\n",
    "    print(\"\\r\")#then print '\\r' to break the line after each row"
   ]
  },
  {
   "cell_type": "markdown",
   "id": "279b94c8",
   "metadata": {
    "id": "279b94c8"
   },
   "source": [
    "#### 11. Write a program to print the following pattern:"
   ]
  },
  {
   "cell_type": "code",
   "execution_count": null,
   "id": "af2c05e5",
   "metadata": {
    "id": "af2c05e5"
   },
   "outputs": [],
   "source": [
    "'''\n",
    "5 4 3 2 1\n",
    "4 3 2 1\n",
    "3 2 1\n",
    "2 1\n",
    "1\n",
    "'''\n",
    "print()"
   ]
  },
  {
   "cell_type": "code",
   "execution_count": 96,
   "id": "a6502c4f",
   "metadata": {
    "id": "a6502c4f"
   },
   "outputs": [
    {
     "name": "stdout",
     "output_type": "stream",
     "text": [
      "5 4 3 2 1 \r\n",
      "4 3 2 1 \r\n",
      "3 2 1 \r\n",
      "2 1 \r\n",
      "1 \r\n"
     ]
    }
   ],
   "source": [
    "r=1#first i take the value of 'r=1'\n",
    "for i in range(r,6,1):#then i iterate from 'r' to 5 with the help of 'range method' \n",
    "    for j in range(6-i,0,-1):#then i iterate from '6-1' to 0 with the help of 'range method' \n",
    "        print(j, end=' ')#then i print the value of 'j'\n",
    "    print(\"\\r\")#then print '\\r' to break the line after each row"
   ]
  }
 ],
 "metadata": {
  "colab": {
   "provenance": []
  },
  "kernelspec": {
   "display_name": "Python 3 (ipykernel)",
   "language": "python",
   "name": "python3"
  },
  "language_info": {
   "codemirror_mode": {
    "name": "ipython",
    "version": 3
   },
   "file_extension": ".py",
   "mimetype": "text/x-python",
   "name": "python",
   "nbconvert_exporter": "python",
   "pygments_lexer": "ipython3",
   "version": "3.9.13"
  }
 },
 "nbformat": 4,
 "nbformat_minor": 5
}
