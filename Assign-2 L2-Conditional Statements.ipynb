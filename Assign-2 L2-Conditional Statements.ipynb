{
 "cells": [
  {
   "cell_type": "markdown",
   "id": "3a10df7a",
   "metadata": {
    "id": "3a10df7a"
   },
   "source": [
    "# Conditional Statements\n",
    "- Write solution of each question in the cell given below the corresponsing question."
   ]
  },
  {
   "cell_type": "markdown",
   "id": "60c2d89a",
   "metadata": {
    "id": "60c2d89a"
   },
   "source": [
    "#### 1. Take a list of numbers as input. Print whether the average is even or odd."
   ]
  },
  {
   "cell_type": "code",
   "execution_count": 42,
   "id": "74d8f988",
   "metadata": {
    "id": "74d8f988"
   },
   "outputs": [
    {
     "name": "stdout",
     "output_type": "stream",
     "text": [
      "Enter the size of Number 3\n",
      "Enter the number 10\n",
      "Enter the number 20\n",
      "Enter the number 20\n",
      "[10, 20, 20]\n",
      "Odd\n"
     ]
    }
   ],
   "source": [
    "a=int(input(\"Enter the size of Number \")) #Firstly I take a input how many numbers user wants to give input into a list\n",
    "c=1 #then I take a variable for using in a while loop\n",
    "b=[] #then I take a empty list to store all the element which is gave from user\n",
    "sum=0 #then I take another variable in which I will store the addtion of all that variable\n",
    "while c<=a: #then I apply while loop to take input elements from user\n",
    "    d=int(input(\"Enter the number \")) #then I take 'd' variable to store all elements which is gave by user\n",
    "    sum=sum+d #then I add all the elements and store in 'sum'\n",
    "    b.append(d) #then I apply append funtion to store element from the end\n",
    "    c=c+1 #then I iterate the value of 'c'\n",
    "print(b) #then print all elements which is store in 'b'\n",
    "m=sum/a #after I got out the mean of all elements\n",
    "if m%2==0: #then I checked the mean of all elements is Even\n",
    "    print(\"Even\") #if mean is Even so print here\n",
    "else:\n",
    "    print(\"Odd\") #if mean is Odd so print here"
   ]
  },
  {
   "cell_type": "markdown",
   "id": "4846bb19",
   "metadata": {
    "id": "4846bb19"
   },
   "source": [
    "#### 2. Take three strings as input. Calculate the number of words in each string and find out the list having highest number of words."
   ]
  },
  {
   "cell_type": "code",
   "execution_count": 85,
   "id": "e2984a70",
   "metadata": {
    "id": "e2984a70"
   },
   "outputs": [
    {
     "name": "stdout",
     "output_type": "stream",
     "text": [
      "Enter the first String the lion is the king of forest\n",
      "Enter the second String the fox is very clever animal ... \n",
      "Enter the third String i like horse\n",
      " Number of words in first string is:-  7\n",
      " Number of words in second string is:-  7\n",
      " Number of words in third string is:-  3\n",
      "first and Second are equal and greatest\n"
     ]
    }
   ],
   "source": [
    "a=input(\"Enter the first String \") #here take a string from user as a input\n",
    "b=input(\"Enter the second String \") #here take a string from user as a input\n",
    "c=input(\"Enter the third String \") #here take a string from user as a input\n",
    "la=len(a.split()) #then I apply a len funtion and in it apply split function to found out length of word in int datatype and store in 'la' variable\n",
    "lb=len(b.split()) #then I apply a len funtion and in it apply split function to found out length of word in int datatype and store in 'lb' variable\n",
    "lc=len(c.split()) #then I apply a len funtion and in it apply split function to found out length of word in int datatype and store in 'lc' variable\n",
    "print(\" Number of words in first string is:- \",la) #then print no. of words in string\n",
    "print(\" Number of words in second string is:- \",lb) #then print no. of words in string\n",
    "print(\" Number of words in third string is:- \",lc) #then print no. of words in string\n",
    "if la>lb and la>lc: #then check it which string is greatest use logical operator\n",
    "    print(\"First is greatest\") #then print greatest string\n",
    "elif lb>lc and lb>la: #then check it which string is greatest use logical operator\n",
    "    print(\"Second is greatest\") #then print greatest string\n",
    "elif la==lb and la>lc: #then check it which string is greatest use logical operator\n",
    "    print(\"first and Second are equal and greatest\") #then print greatest string\n",
    "elif la==lc and la>lb: #then check it which string is greatest use logical operator\n",
    "    print(\"first and Third are equal and greatest\") #then print greatest string\n",
    "elif lb==lc and lb>la: #then check it which string is greatest use logical operator\n",
    "    print(\"Second and Third are equal and greatest\") #then print greatest string\n",
    "else:\n",
    "    print(\"Third is greatest\") #then print greatest string"
   ]
  },
  {
   "cell_type": "markdown",
   "id": "0e0d8196",
   "metadata": {
    "id": "0e0d8196"
   },
   "source": [
    "3. Take four numbers as input in a single line. Find out the largest number."
   ]
  },
  {
   "cell_type": "code",
   "execution_count": 106,
   "id": "2b724327",
   "metadata": {
    "id": "2b724327"
   },
   "outputs": [
    {
     "name": "stdout",
     "output_type": "stream",
     "text": [
      " Enter a number1\n",
      "[1]\n",
      " Enter a number8\n",
      "[1, 8]\n",
      " Enter a number5\n",
      "[1, 8, 5]\n",
      " Enter a number2\n",
      "[1, 5, 8, 2]\n",
      " the largest number in a list is:-  8\n"
     ]
    }
   ],
   "source": [
    "x=1 #Firstly I take a variable then gave assign a value of that variable\n",
    "l=[] #then take a empty variable which is list datatype\n",
    "while x<=4: #then apply while loop to take a input from user till 4 element\n",
    "    a=int(input(\" Enter a number\"))\n",
    "    l.append(a) #then apply append function to store a element in a list\n",
    "    x+=1 #then iterate the value of 'x'\n",
    "    print(l) #print the list \n",
    "    l.sort() #then apply sort function of arrange the element in accending order\n",
    "print(\" the largest number in a list is:- \",l[3])"
   ]
  },
  {
   "cell_type": "markdown",
   "id": "16c0440a",
   "metadata": {
    "id": "16c0440a"
   },
   "source": [
    "#### 4. Take four numbers as input and find the second largest numer."
   ]
  },
  {
   "cell_type": "code",
   "execution_count": 107,
   "id": "795ee65e",
   "metadata": {
    "id": "795ee65e"
   },
   "outputs": [
    {
     "name": "stdout",
     "output_type": "stream",
     "text": [
      " Enter a number1\n",
      "[1]\n",
      " Enter a number5\n",
      "[1, 5]\n",
      " Enter a number8\n",
      "[1, 5, 8]\n",
      " Enter a number2\n",
      "[1, 5, 8, 2]\n",
      " the largest number in a list is:-  5\n"
     ]
    }
   ],
   "source": [
    "x=1#first take '1' in variable 'x'\n",
    "l=[]#then take an empty list 'l'\n",
    "while x<=4:#then apply the loop unti the value of x will come equal to 4(will iterate the value of 'x' by 1)\n",
    "    a=int(input(\" Enter a number\"))#then take an input from user in a string\n",
    "    l.append(a)#and put in an empty list 'l' with the help of append method\n",
    "    x+=1#then iterate the value of 'x' which is used in while loop condition by 1 to make the loop running and not stucked at infinity\n",
    "    print(l)#then print the list 'l'\n",
    "    l.sort()#then sort it in ascending order\n",
    "print(\" the second largest number in a list is:- \",l[-2])#and print the value situated at index '-2'(since it will be the second highest)"
   ]
  },
  {
   "cell_type": "markdown",
   "id": "2f6641a4",
   "metadata": {
    "id": "2f6641a4"
   },
   "source": [
    "#### 5. Create a dictionary having three items. Key of each item is the name of a student, value associated with each key is a list of marks in five subjects. Given this dictionary print the top and lowest scorers."
   ]
  },
  {
   "cell_type": "code",
   "execution_count": 2,
   "id": "F5HgtrHdofCn",
   "metadata": {
    "id": "F5HgtrHdofCn"
   },
   "outputs": [
    {
     "name": "stdout",
     "output_type": "stream",
     "text": [
      "{'s1': [96, 84, 75, 68, 94], 's2': [74, 98, 84, 76, 75], 's3': [65, 57, 67, 98, 81]}\n",
      "417\n",
      "407\n",
      "368\n",
      "S1 is top scorer\n",
      "S3 is lowest scorer\n"
     ]
    }
   ],
   "source": [
    "d={'s1':[96,84,75,68,94],#take a dictionary 'd' which keys  are three students 's1','s2' and s3 and values are their marks\n",
    "   's2':[74,98,84,76,75],\n",
    "   's3':[65,57,67,98,81]}\n",
    "a = sum(d['s1'])#then take sum of 's1' student with the help of 'sum' method and stored in 'a' variable\n",
    "print(a)\n",
    "b = sum(d['s2'])#then take sum of 's2' student with the help of 'sum' method and stored in 'b' variable\n",
    "print(b)\n",
    "c = sum(d['s3'])#then take sum of 's3' student with the help of 'sum' method and stored in 'c' variable\n",
    "print(c)\n",
    "if a>b & a>c:#if sum of student 's1' is greater than 's2' and 's3'\n",
    "    print(\"S1 is top scorer\")#print 's1' is top scorer\n",
    "elif b>c & b>a:#if sum of student 's2' is greater than 's3' and 's1'\n",
    "    print(\"S2 is top scorer\")#print 's2' is top scorer\n",
    "elif a==b & a>c:#if sum of student 's' is equal to 's2' and 's1' is greater than 's3'\n",
    "    print(\"S1 and S2 are equal and top scorer\")#then print 's1' and 's2' both are equal and top scorer\n",
    "elif c==b & b>a:#if sum of student 's2' is equal to 's3' and 's2' is greater than 's1'\n",
    "    print(\"S3 and S2 are equal and top scorer\")#then print 's3' and 's2' both are equal and top scorer\n",
    "elif c==a & a>b:#if sum of student 's3' is equal to 's1' and 's1' is greater than 's2'\n",
    "    print(\"S3 and S1 are equal and top scorer\")#then print 's3' and 's1' both are equal and top scorer\n",
    "else:#otherwise\n",
    "    print(\"S3 is top scorer\")#print 's3' is top scorer\n",
    "    \n",
    "if a<b & a<c:#if sum of student 's1' is smaller than 's2' and 's3'\n",
    "    print(\"S1 is lowest scorer\")#print 's1' is lowest scorer\n",
    "elif b<c & b<a:#if sum of student 's2' is greater than 's3' and 's1'\n",
    "    print(\"S2 is lowest scorer\")#print 's2' is lowest scorer\n",
    "elif a==b & a<c:#if sum of student 's' is equal to 's2' and 's1' is smaller than 's3'\n",
    "    print(\"S1 and S2 are equal and lowest scorer\")#then print 's1' and 's2' both are equal and lowest scorer\n",
    "elif c==b & b<a:#if sum of student 's2' is equal to 's3' and 's2' is smaller than 's1'\n",
    "    print(\"S3 and S2 are equal and lowest scorer\")#then print 's3' and 's2' both are equal and lowest scorer\n",
    "elif c==a & a<b:#if sum of student 's3' is equal to 's1' and 's1' is smaller than 's2'\n",
    "    print(\"S3 and S1 are equal and lowest scorer\")#then print 's3' and 's1' both are equal and lowest scorer\n",
    "else:#otherwise\n",
    "    print(\"S3 is lowest scorer\")#print 's3' is lowest scorer\n"
   ]
  },
  {
   "cell_type": "markdown",
   "id": "64db0791",
   "metadata": {
    "id": "64db0791"
   },
   "source": [
    "#### 6. Create a dictionary (called data) of having at least 5 items : Usernames as keys and Passwords as values. Write a program that takes a username and a password as input. If the credentials match any iteam in the given dictionary data then print acces granted otherwise print whether username, password or both are wrong."
   ]
  },
  {
   "cell_type": "code",
   "execution_count": 3,
   "id": "1ca5ccba",
   "metadata": {
    "id": "1ca5ccba"
   },
   "outputs": [
    {
     "name": "stdout",
     "output_type": "stream",
     "text": [
      " Enter Username : a\n",
      " Enter Password : apple\n",
      " access granted\n"
     ]
    }
   ],
   "source": [
    "u=input(\" Enter Username : \")#take a username as input\n",
    "p=input(\" Enter Password : \")#take a password as input\n",
    "d={\"a\":\"apple\",#take a dictionary 'd'\n",
    "   \"b\":\"boy\",#with value of usernames 'a','b','c','d','e'\n",
    "   \"c\":\"cat\",#and with passwords as keys\n",
    "   \"d\":\"dog\",\n",
    "   \"e\":\"elephant\"}\n",
    "d1=list(d.keys())#then cast the keys in list 'd1'\n",
    "d2=list(d.values())#and then cast the values in list 'd2'\n",
    "x=0#mention 'x=0'\n",
    "while x<=5:#then apply while loop with a condition checking 'x<=5' \n",
    "    if u==d1[x] and p==d2[x]:#then check the input username and password is in the list 'd1' and 'd2' respectively at same index \n",
    "        print(\" access granted\")#if yes then print \"access granted\"\n",
    "    else:#otherwise \n",
    "        print(\" username, password or both are wrong\")#print ' username, password or both are wrong '\n",
    "    break\n",
    "    x+=1#then iterate the loop by '1'"
   ]
  },
  {
   "cell_type": "markdown",
   "id": "27c56bb8",
   "metadata": {
    "id": "27c56bb8"
   },
   "source": [
    "#### 7. Take a list as input in a single line containing 15 numbers as marks out of 100. The first five numbers in the list are marks of Tom, the middle 5 numbers are marks of Bob and the last 5 are the marks of Jon. Find out the top and lowest scorer."
   ]
  },
  {
   "cell_type": "code",
   "execution_count": 176,
   "id": "-FrUlDTsn867",
   "metadata": {
    "id": "-FrUlDTsn867"
   },
   "outputs": [
    {
     "name": "stdout",
     "output_type": "stream",
     "text": [
      "Enter 15 numbers :- 98\n",
      "Enter 15 numbers :- 87\n",
      "Enter 15 numbers :- 76\n",
      "Enter 15 numbers :- 65\n",
      "Enter 15 numbers :- 89\n",
      "Enter 15 numbers :- 87\n",
      "Enter 15 numbers :- 76\n",
      "Enter 15 numbers :- 86\n",
      "Enter 15 numbers :- 85\n",
      "Enter 15 numbers :- 79\n",
      "Enter 15 numbers :- 78\n",
      "Enter 15 numbers :- 67\n",
      "Enter 15 numbers :- 99\n",
      "Enter 15 numbers :- 88\n",
      "Enter 15 numbers :- 77\n",
      "Marks Obtained By Tom  [98, 87, 76, 65, 89]\n",
      "Marks Obtained By Bob  [87, 76, 86, 85, 79]\n",
      "Marks Obtained By Jon  [78, 67, 99, 88, 77]\n",
      "Total marks Obtained By Tom :-  415\n",
      "Total marks Obtained By Bob :-  413\n",
      "Total marks Obtained By Jon :-  409\n",
      "[409, 413, 415]\n",
      "Top Scorer is :-  415\n",
      "Top Scorer is :-  409\n"
     ]
    }
   ],
   "source": [
    "x=1#mention 'x=1'\n",
    "a1=[]#take an empty list 'a'\n",
    "s1=0#mention 's1=0'\n",
    "s2=0#mention 's2=0'\n",
    "s3=0#mention 's3=0'\n",
    "while x<=15:#then apply while loop with a condition checking 'x<=15' \n",
    "    a=int(input(\"Enter 15 numbers :- \"))#then take an input from user in variable 'a'\n",
    "    a1.append(a)#and store it in list 'a1' with thw help of 'append' method\n",
    "    x+=1#and iterate the value of 'x' it by '1'\n",
    "a2=a1[0:5]#then take value of 'a1' from index '0' to '4'\n",
    "print(\"Marks Obtained By Tom \",a2)#and print the marks obtained by 'tom'\n",
    "for i in a2:#then iterate the value of 'a2'\n",
    "    s1=s1+i#and sum up all the values and store it in variable 's1'\n",
    "a3=a1[5:10]#then take value of 'a1' from index '5' to '9'\n",
    "print(\"Marks Obtained By Bob \",a3)#and print the marks obtained by 'bob'\n",
    "for i in a3:#then iterate the value of 'a3'\n",
    "    s2=s2+i#and sum up all the values and store it in variable 's2'\n",
    "a4=a1[10:15]#then take value of 'a1' from index '10' to '14'\n",
    "print(\"Marks Obtained By Jon \",a4)#and print the marks obtained by 'jon'\n",
    "for i in a4:#then iterate the value of 'a4'\n",
    "    s3=s3+i#and sum up all the values and store it in variable 's3'\n",
    "\n",
    "print(\"Total marks Obtained By Tom :- \",s1)#and print the marks obtained by 'tom'\n",
    "print(\"Total marks Obtained By Bob :- \",s2)#and print the total marks obtained by 'bob'\n",
    "print(\"Total marks Obtained By Jon :- \",s3)#and print the total marks obtained by 'jon'\n",
    "\n",
    "m=[s1,s2,s3]#then take all of them marks in a list 'm'\n",
    "m.sort()#and apply the method 'sort' on that\n",
    "print(m)#then print the list containing marks of all three\n",
    "print(\"Top Scorer is :- \",m[2])#and print the marks of top scorer as it will be on last index after sorting\n",
    "print(\"Top Scorer is :- \",m[0])#then print the marks of lowest scorer as it will be on first index after sorting"
   ]
  },
  {
   "cell_type": "markdown",
   "id": "20f59542",
   "metadata": {
    "id": "20f59542"
   },
   "source": [
    "#### 8. Take a number as input and print whether the number is a multiple of 3,5 or both."
   ]
  },
  {
   "cell_type": "code",
   "execution_count": 8,
   "id": "otWg3MXaYing",
   "metadata": {
    "id": "otWg3MXaYing"
   },
   "outputs": [
    {
     "name": "stdout",
     "output_type": "stream",
     "text": [
      "Enter the number15\n",
      "Number is multiple of 3 and 5 both\n"
     ]
    }
   ],
   "source": [
    "a=int(input(\"Enter the number\")) #Firstly I take a input from user in int datatype\n",
    "if a%3==0 and a%5==0:#then I checked the number is a multiple of 3 and 5 both\n",
    "    print(\"Number is multiple of 3 and 5 both\") #after print the output of result\n",
    "elif a%3==0: #then I checked the number is a multiple of 3 \n",
    "    print(\"Number is multiple of 3\") #after print the output of result\n",
    "elif a%5==0:#then I checked the number is a multiple of 3 \n",
    "    print(\"Number is multiple of 5\") #after print the output of result\n",
    "else:\n",
    "    print(\"Number is not multiple of 3,5 or both\")"
   ]
  },
  {
   "cell_type": "markdown",
   "id": "b770e791",
   "metadata": {
    "id": "b770e791"
   },
   "source": [
    "#### 9. Write a program to take three strings as input and print the string having second largest number of words."
   ]
  },
  {
   "cell_type": "code",
   "execution_count": 16,
   "id": "0359e7ef",
   "metadata": {
    "id": "0359e7ef"
   },
   "outputs": [
    {
     "name": "stdout",
     "output_type": "stream",
     "text": [
      "Enter the first String hello today is tuesday\n",
      "Enter the second String welcome developer\n",
      "Enter the third String the king of forest is Lion\n",
      " Number of words in first string is:-  4\n",
      " Number of words in second string is:-  2\n",
      " Number of words in third string is:-  6\n",
      "Second largest word is  the king of forest is Lion\n"
     ]
    }
   ],
   "source": [
    "a=input(\"Enter the first String \") #here take a string from user as a input\n",
    "b=input(\"Enter the second String \") #here take a string from user as a input\n",
    "c=input(\"Enter the third String \") #here take a string from user as a input\n",
    "la=len(a.split()) #then I apply a len funtion and in it apply split function to found out length of word in int datatype and store in 'la' variable\n",
    "lb=len(b.split()) #then I apply a len funtion and in it apply split function to found out length of word in int datatype and store in 'lb' variable\n",
    "lc=len(c.split()) #then I apply a len funtion and in it apply split function to found out length of word in int datatype and store in 'lc' variable\n",
    "print(\" Number of words in first string is:- \",la) #then print no. of words in string\n",
    "print(\" Number of words in second string is:- \",lb) #then print no. of words in string\n",
    "print(\" Number of words in third string is:- \",lc) #then print no. of words in string\n",
    "l=[a,b,c] #then I convert 'la','lb','lc' into list and store in 'l' variable\n",
    "l.sort() #then I applied sort function to arrange data\n",
    "print(\"Second largest word is \",l[1]) #then print the output"
   ]
  },
  {
   "cell_type": "markdown",
   "id": "5a485c8c",
   "metadata": {
    "id": "5a485c8c"
   },
   "source": [
    "#### 10. Write a program to take four strings as input and print the string having third highest number of words."
   ]
  },
  {
   "cell_type": "code",
   "execution_count": 31,
   "id": "LZxu2EihcFFf",
   "metadata": {
    "id": "LZxu2EihcFFf"
   },
   "outputs": [
    {
     "name": "stdout",
     "output_type": "stream",
     "text": [
      "Enter the first String : hello\n",
      "Enter the second String : thank you\n",
      "Enter the third String : today is tuesday\n",
      "Enter the forth String : we are learning python\n",
      " Number of words in first string is:-  1\n",
      " Number of words in second string is:-  2\n",
      " Number of words in third string is:-  3\n",
      " Number of words in third string is:-  4\n",
      "Second largest word is :  thank you\n"
     ]
    }
   ],
   "source": [
    "a=input(\"Enter the first String : \") #here take a string from user as a input\n",
    "b=input(\"Enter the second String : \") #here take a string from user as a input\n",
    "c=input(\"Enter the third String : \") #here take a string from user as a input\n",
    "d=input(\"Enter the forth String : \") #here take a string from user as a input\n",
    "la=len(a.split()) #then I apply a len funtion and in it apply split function to found out length of word in int datatype and store in 'la' variable\n",
    "lb=len(b.split()) #then I apply a len funtion and in it apply split function to found out length of word in int datatype and store in 'lb' variable\n",
    "lc=len(c.split()) #then I apply a len funtion and in it apply split function to found out length of word in int datatype and store in 'lc' variable\n",
    "ld=len(d.split()) #then I apply a len funtion and in it apply split function to found out length of word in int datatype and store in 'ld' variable\n",
    "print(\" Number of words in first string is:- \",la) #then print no. of words in string\n",
    "print(\" Number of words in second string is:- \",lb) #then print no. of words in string\n",
    "print(\" Number of words in third string is:- \",lc) #then print no. of words in string\n",
    "print(\" Number of words in third string is:- \",ld) #then print no. of words in string\n",
    "l=[a,b,c,d] #then I convert 'la','lb','lc' into list and store in 'l' variable\n",
    "l.sort() #then I applied sort function to arrange data\n",
    "print(\"Second largest word is : \",l[1]) #then print the output"
   ]
  }
 ],
 "metadata": {
  "colab": {
   "provenance": []
  },
  "kernelspec": {
   "display_name": "Python 3 (ipykernel)",
   "language": "python",
   "name": "python3"
  },
  "language_info": {
   "codemirror_mode": {
    "name": "ipython",
    "version": 3
   },
   "file_extension": ".py",
   "mimetype": "text/x-python",
   "name": "python",
   "nbconvert_exporter": "python",
   "pygments_lexer": "ipython3",
   "version": "3.9.13"
  }
 },
 "nbformat": 4,
 "nbformat_minor": 5
}
