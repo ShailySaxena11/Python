{
 "cells": [
  {
   "cell_type": "markdown",
   "id": "9cacd9e4",
   "metadata": {
    "id": "9cacd9e4"
   },
   "source": [
    "# Data Types\n",
    "- Write solution of each question in the cell given below the corresponsing question."
   ]
  },
  {
   "cell_type": "markdown",
   "id": "a36a3683",
   "metadata": {
    "id": "a36a3683"
   },
   "source": [
    "#### 1. Write a program to take principal amount, rate and interest as input and calculate simple interest."
   ]
  },
  {
   "cell_type": "code",
   "execution_count": 1,
   "id": "z6EiFHNI8sCg",
   "metadata": {
    "colab": {
     "base_uri": "https://localhost:8080/"
    },
    "executionInfo": {
     "elapsed": 10576,
     "status": "ok",
     "timestamp": 1675784300390,
     "user": {
      "displayName": "N Akash",
      "userId": "10398409566081282158"
     },
     "user_tz": -330
    },
    "id": "z6EiFHNI8sCg",
    "outputId": "cb3ec5fc-af97-4bfd-e9d0-72442cd4338e"
   },
   "outputs": [
    {
     "name": "stdout",
     "output_type": "stream",
     "text": [
      "Enter a Principal Amount :-700000\n",
      "Enter the Rate :-10\n",
      "Enter the time :-5\n",
      "350000.0\n"
     ]
    }
   ],
   "source": [
    "p=int(input(\"Enter a Principal Amount :-\"))# first we have taken the value of principle as an input in integer datatype\n",
    "r=float(input(\"Enter the Rate :-\"))# then we have taken the rate in float type of data\n",
    "t=int(input(\"Enter the time :-\"))# and at last we have taken the time of integer datatype\n",
    "si=(p*r*t)/100# then we apply the formula of simple interest and stored the result in 'si'\n",
    "print(si)# and at last we print our output."
   ]
  },
  {
   "cell_type": "markdown",
   "id": "3a9994e0",
   "metadata": {
    "id": "3a9994e0"
   },
   "source": [
    "#### 2. Write a program that takes a string as input and prints the number of words in the string."
   ]
  },
  {
   "cell_type": "code",
   "execution_count": 2,
   "id": "SQokqn-Pm7Zv",
   "metadata": {
    "colab": {
     "base_uri": "https://localhost:8080/"
    },
    "executionInfo": {
     "elapsed": 17412,
     "status": "ok",
     "timestamp": 1675786508691,
     "user": {
      "displayName": "N Akash",
      "userId": "10398409566081282158"
     },
     "user_tz": -330
    },
    "id": "SQokqn-Pm7Zv",
    "outputId": "065225c4-64e8-4e76-89f4-e653f9e2310c"
   },
   "outputs": [
    {
     "name": "stdout",
     "output_type": "stream",
     "text": [
      "Enter the String :-i will become data scientist\n",
      "Total No. of Words in a Sting is :- 28\n"
     ]
    }
   ],
   "source": [
    "s=input(\"Enter the String :-\")# first we have taken a string as an input\n",
    "s1=list(s)# then we convert it in as a list\n",
    "print(\"Total No. of Words in a Sting is :-\",len(s1))# and then we apply a list method which is 'len()' to count the no. of words present in our string"
   ]
  },
  {
   "cell_type": "markdown",
   "id": "8a8d5e27",
   "metadata": {
    "id": "8a8d5e27"
   },
   "source": [
    "#### 3. Write a program to take a list of numbers as input (in a single line) and print the sum, avg, max and min elements."
   ]
  },
  {
   "cell_type": "code",
   "execution_count": 3,
   "id": "lLtHVeEC8utA",
   "metadata": {
    "colab": {
     "base_uri": "https://localhost:8080/"
    },
    "executionInfo": {
     "elapsed": 861,
     "status": "ok",
     "timestamp": 1675787534020,
     "user": {
      "displayName": "N Akash",
      "userId": "10398409566081282158"
     },
     "user_tz": -330
    },
    "id": "lLtHVeEC8utA",
    "outputId": "a3b77d80-b5ba-4be8-99c5-ecda5c2a2163"
   },
   "outputs": [
    {
     "name": "stdout",
     "output_type": "stream",
     "text": [
      "Enter how many number you want to add 5\n",
      "Enter a number 85\n",
      "Enter a number 96\n",
      "Enter a number 74\n",
      "Enter a number 29\n",
      "Enter a number 54\n",
      "[85, 96, 74, 29, 54]\n",
      "Sum Of All Number Is :- 338\n",
      "Average Of All Number Is :- 67.6\n",
      "Maximum Number Is :-  96\n",
      "Minimum Number Is :-  29\n"
     ]
    }
   ],
   "source": [
    "l=[]\n",
    "x=int(input(\"Enter how many number you want to add \"))# first we took the no. of integer user want to give\n",
    "y=1# then we taken a value in one variable to apply our condition\n",
    "s=0# then we take our sum value as zero on 's' variable\n",
    "while y<=x:# then we apply a condition because we wanrt our loop to process the no. of integer our user gave\n",
    "    a=int(input(\"Enter a number \"))# then we took the values in variable 'a'\n",
    "    l.append(a)# and then we take a list of it in our empty list variable 'l' with the help of append method of list\n",
    "    y+=1# then we iterate our value of 'y' to proceed our loop further\n",
    "print(l)# and then we print our list 'l'\n",
    "for i in l:# then we apply for loop in out=r list 'l'\n",
    "    s=s+i# store sum of out list values in 's'\n",
    "print(\"Sum Of All Number Is :-\",s)# print the sum values\n",
    "avg=s/x# calculate average and store it in 'avg' var.\n",
    "print(\"Average Of All Number Is :-\",avg)#print the average result\n",
    "ma=max(l)# apply max() to find maximum value n list\n",
    "print(\"Maximum Number Is :- \",ma)#and print maximum value\n",
    "mi=min(l)# apply min() method to find minimum value and sstore it in 'mi' var.\n",
    "print(\"Minimum Number Is :- \",mi)# then print the minimum value"
   ]
  },
  {
   "cell_type": "markdown",
   "id": "17dbd6e8",
   "metadata": {
    "id": "17dbd6e8"
   },
   "source": [
    "#### 4. Write a program to take the marks of 3 students in five subjects each as a list (one list for each input) as input and print the average score of each student.."
   ]
  },
  {
   "cell_type": "code",
   "execution_count": 4,
   "id": "Olics1_krMwN",
   "metadata": {
    "id": "Olics1_krMwN"
   },
   "outputs": [
    {
     "name": "stdout",
     "output_type": "stream",
     "text": [
      "Enter 5 Subjects Mark's Of Student 1 96\n",
      "Enter 5 Subjects Mark's Of Student 1 85\n",
      "Enter 5 Subjects Mark's Of Student 1 74\n",
      "Enter 5 Subjects Mark's Of Student 1 68\n",
      "Enter 5 Subjects Mark's Of Student 1 57\n",
      "[96, 85, 74, 68, 57]\n",
      "Average Of 5 Subjects Mark's Of Student 1 Is :- 76.0\n",
      "Enter 5 Subjects Mark's Of Student 2 98\n",
      "Enter 5 Subjects Mark's Of Student 2 84\n",
      "Enter 5 Subjects Mark's Of Student 2 71\n",
      "Enter 5 Subjects Mark's Of Student 2 60\n",
      "Enter 5 Subjects Mark's Of Student 2 52\n",
      "[98, 84, 71, 60, 52]\n",
      "Average Of 5 Subjects Mark's Of Student 2 Is :- 73.0\n",
      "Enter 5 Subjects Mark's Of Student 3 59\n",
      "Enter 5 Subjects Mark's Of Student 3 68\n",
      "Enter 5 Subjects Mark's Of Student 3 77\n",
      "Enter 5 Subjects Mark's Of Student 3 84\n",
      "Enter 5 Subjects Mark's Of Student 3 90\n",
      "[59, 68, 77, 84, 90]\n",
      "Average Of 5 Subjects Mark's Of Student 3 Is :- 75.6\n"
     ]
    }
   ],
   "source": [
    "#For Student One\n",
    "Student_1=[]#take an empty list 'student_1'\n",
    "y=1#take a variable name 'y'\n",
    "s=0#mention one variable 's=0' \n",
    "while y<=5:#apply while loop until a condition has met which is 'y<=5',it means until the value of 'y' will come at equal to '5'\n",
    "    a=int(input(\"Enter 5 Subjects Mark's Of Student 1 \"))#take 5 subject marks for 'student_1[]\n",
    "    Student_1.append(a)#then store it in list 'student_1' with the help of append method\n",
    "    y+=1#then i iterate the value of 'y' by '1' so that the loop will run smoothly\n",
    "print(Student_1)#and then i print the list of 'student_1'\n",
    "for i in Student_1:#then i iterate the data from list of 'student_1'\n",
    "    s=s+i#and find the sum of all the data in a list and store it in variable 's'\n",
    "avg=s/5#and then find the average of marks or 'student_1'\n",
    "print(\"Average Of 5 Subjects Mark's Of Student 1 Is :-\",avg)#and then print the average marks of 'student_1'\n",
    "\n",
    "\n",
    "#For Student Two\n",
    "\n",
    "Student_2=[]#take an empty list 'student_2'\n",
    "y=1#take a variable name 'y'\n",
    "s=0#mention one variable 's=0' \n",
    "while y<=5:#apply while loop until a condition has met which is 'y<=5',it means until the value of 'y' will come at equal to '5'\n",
    "    a=int(input(\"Enter 5 Subjects Mark's Of Student 2 \"))#take 5 subject marks for 'student_2'\n",
    "    Student_2.append(a)#then store it in list 'student_2' with the help of append method\n",
    "    y+=1#then i iterate the value of 'y' by '1' so that the loop will run smoothly\n",
    "print(Student_2)#and then i print the list of 'student_2'\n",
    "for i in Student_2:#then i iterate the data from list of 'student_2'\n",
    "    s=s+i#and find the sum of all the data in a list and store it in variable 's'\n",
    "avg=s/5#and then find the average of marks or 'student_2'\n",
    "print(\"Average Of 5 Subjects Mark's Of Student 2 Is :-\",avg)#and then print the average marks of 'student_2'\n",
    "\n",
    "\n",
    "#For Student Three\n",
    "\n",
    "Student_3=[]#take an empty list 'student_3'\n",
    "y=1#take a variable name 'y'\n",
    "s=0#mention one variable 's=0' \n",
    "while y<=5:#apply while loop until a condition has met which is 'y<=5',it means until the value of 'y' will come at equal to '5'\n",
    "    a=int(input(\"Enter 5 Subjects Mark's Of Student 3 \"))#take 5 subject marks for 'student_3'\n",
    "    Student_3.append(a)#then store it in list 'student_3' with the help of append method\n",
    "    y+=1#then i iterate the value of 'y' by '1' so that the loop will run smoothly\n",
    "print(Student_3)#and then i print the list of 'student_3'\n",
    "for i in Student_3:#hen i iterate the data from list of 'student_3'\n",
    "    s=s+i#and find the sum of all the data in a list and store it in variable 's'\n",
    "avg=s/5#and then find the average of marks or 'student_3'\n",
    "print(\"Average Of 5 Subjects Mark's Of Student 3 Is :-\",avg)#and then print the average marks of 'student_3'"
   ]
  },
  {
   "cell_type": "markdown",
   "id": "39fb8526",
   "metadata": {
    "id": "39fb8526"
   },
   "source": [
    "#### 5. Write a program to take a list as input containing results of 10 coin tosses as 'H' or 'T'. Jon gets a point for each 'T' and Tom gets a point for each 'H'. print the points recieved by both."
   ]
  },
  {
   "cell_type": "code",
   "execution_count": 24,
   "id": "83ad7dc6",
   "metadata": {
    "id": "83ad7dc6"
   },
   "outputs": [
    {
     "name": "stdout",
     "output_type": "stream",
     "text": [
      " Enter the result of coin toss H\n",
      " Enter the result of coin toss T\n",
      " Enter the result of coin toss H\n",
      " Enter the result of coin toss T\n",
      " Enter the result of coin toss T\n",
      " Enter the result of coin toss H\n",
      " Enter the result of coin toss H\n",
      " Enter the result of coin toss H\n",
      " Enter the result of coin toss T\n",
      " Enter the result of coin toss H\n",
      "['H', 'T', 'H', 'T', 'T', 'H', 'H', 'H', 'T', 'H']\n",
      "total points of jon is :-  4\n",
      "total points of tom is :-  6\n"
     ]
    }
   ],
   "source": [
    "jon=0#first i mention the value of 'jon=0'\n",
    "tom=0#then i mention the value of 'tom=0'\n",
    "a=1#then i mention \"a-1\"\n",
    "l=[]#then i take an empty list 'l'\n",
    "while a<=10:#then i check a condition so that the loop will be running until the value of 'a' will be equalto the '10'\n",
    "    x=input(\" Enter the result of coin toss \")#then i take an input the result of toss in variable 'x'\n",
    "    if x=='H' or x==\"T\":#then i check if the result should be 'H' or 'T' as it only option there\n",
    "        l.append(x)#if yes then i store it in list 'l'\n",
    "    else:#otherwise\n",
    "        print(\" please enter valid input\")#i give a message to give accurate input\n",
    "    a+=1#then i iterate the value of 'a' by '1' so that the loop can be run\n",
    "print(l)#and then i print the list 'l'\n",
    "for i in l:#then i iterate the value of list 'l'\n",
    "    if i==\"T\":#and check if the value 'i=T'\n",
    "        jon=jon+1#increase value of 'jon' by '1'\n",
    "    else:#else\n",
    "        tom=tom+1#increase value of 'tom' by '1'\n",
    "print(\"total points of jon is :- \",jon)#at last print the value of 'jon'\n",
    "print(\"total points of tom is :- \",tom)#as well as 'tom'"
   ]
  },
  {
   "cell_type": "markdown",
   "id": "4a6dc391",
   "metadata": {
    "id": "4a6dc391"
   },
   "source": [
    "#### 6. Take two numbers as input and print the result after swapping them. (Without using multiple assignment and any extra variable)."
   ]
  },
  {
   "cell_type": "code",
   "execution_count": 5,
   "id": "1bcd0fe3",
   "metadata": {
    "id": "1bcd0fe3"
   },
   "outputs": [
    {
     "name": "stdout",
     "output_type": "stream",
     "text": [
      "Enter First Number 82\n",
      "Enter Second Number 27\n",
      "Before Swapping \n",
      "a=  82\n",
      "b=  27\n",
      "After Swapping \n",
      "a=  27\n",
      "b=  82\n"
     ]
    }
   ],
   "source": [
    "a=int(input(\"Enter First Number \"))#first take an input of integer type in variable 'a'\n",
    "b=int(input(\"Enter Second Number \"))#then take an input of integer type in variable 'b'\n",
    "print(\"Before Swapping \")#then show the value of the number before swapping\n",
    "print(\"a= \",a)\n",
    "print(\"b= \",b)\n",
    "a,b=b,a#then i apply the logic of swapping\n",
    "print(\"After Swapping \")#then show the value of the number after swapping\n",
    "print(\"a= \",a)\n",
    "print(\"b= \",b)"
   ]
  },
  {
   "cell_type": "markdown",
   "id": "b0059e36",
   "metadata": {
    "id": "b0059e36"
   },
   "source": [
    "#### 7. Take a list as input in a single line containing 10 numbers as marks out of 100. The even positions in the list are marks of Tom and the odd positions are the marks of Jon. Calculate the average marks of both."
   ]
  },
  {
   "cell_type": "code",
   "execution_count": 6,
   "id": "ef40ed32",
   "metadata": {
    "id": "ef40ed32"
   },
   "outputs": [
    {
     "name": "stdout",
     "output_type": "stream",
     "text": [
      "Enter 10 Marks out of 100 98\n",
      "Enter 10 Marks out of 100 87\n",
      "Enter 10 Marks out of 100 76\n",
      "Enter 10 Marks out of 100 65\n",
      "Enter 10 Marks out of 100 54\n",
      "Enter 10 Marks out of 100 84\n",
      "Enter 10 Marks out of 100 73\n",
      "Enter 10 Marks out of 100 91\n",
      "Enter 10 Marks out of 100 82\n",
      "Enter 10 Marks out of 100 60\n",
      "[98, 87, 76, 65, 54, 84, 73, 91, 82, 60]\n",
      "[98, 76, 54, 73, 82]\n",
      "Average Mark's Of Tom is :-  76.6\n",
      "[87, 65, 84, 91, 60]\n",
      "Average Mark's Of Tom is :-  77.4\n"
     ]
    }
   ],
   "source": [
    "l=[]#first i took an empty list 'l'\n",
    "y=1#then i mention the value of 'y=1'\n",
    "s=0#then mention the value of 's=0'\n",
    "s1=0#and again mention the value of 's=1'\n",
    "while y<=10:#then apply while loop with a condition 'y<=10' so that the loop can run 10 times\n",
    "    a=int(input(\"Enter 10 Marks out of 100 \"))#then taken an integer value in a loop\n",
    "    l.append(a)#and insert in a list 'l' with the help of 'append' method\n",
    "    y+=1#then iterate the value of 'y' by '1'\n",
    "print(l)#and then i print the list 'l'\n",
    "tom=l[0:10:2]#then i take every even index from '0' to '10' in a list 'l' and store it in 'tom'\n",
    "print(tom)#then i print the marks of list of 'tom'\n",
    "for i in tom:#then iterate the value of 'tom'\n",
    "    s=s+i#then sum -up all the marks of 'tom' and store it in 's' value \n",
    "avg_tom=s/5#then i find the average marks of 'tom' and store it in 'avg_tom' variable\n",
    "print(\"Average Mark's Of Tom is :- \",avg_tom)#then i show the average marks of 'tom'\n",
    "\n",
    "jon=l[1:10:2]#here i take every odd index from '1' to '10' in a list 'l' and store it in 'jon'\n",
    "print(jon)#then i print the marks of list of 'jon'\n",
    "for i in jon:#then iterate the value of 'jon'\n",
    "    s1=s1+i#then sum -up all the marks of 'jon' and store it in 's1' value \n",
    "avg_jon=s1/5#then i find the average marks of 'jon' and store it in 'avg_jon' variable\n",
    "print(\"Average Mark's Of Tom is :- \",avg_jon)#then i show the average marks of 'jon'"
   ]
  },
  {
   "cell_type": "markdown",
   "id": "f07dab7c",
   "metadata": {
    "id": "f07dab7c"
   },
   "source": [
    "#### 8. Take a string and a character as input. Print the result having the character between each word of the given string."
   ]
  },
  {
   "cell_type": "code",
   "execution_count": 5,
   "id": "a85ca910",
   "metadata": {
    "colab": {
     "base_uri": "https://localhost:8080/"
    },
    "executionInfo": {
     "elapsed": 8,
     "status": "ok",
     "timestamp": 1675744131872,
     "user": {
      "displayName": "Star Agile",
      "userId": "05958537219244458985"
     },
     "user_tz": -330
    },
    "id": "a85ca910",
    "outputId": "4464ab37-ebb1-4fda-f2c9-204f3c416701"
   },
   "outputs": [
    {
     "name": "stdout",
     "output_type": "stream",
     "text": [
      " Enter a character X\n",
      " Enter a string we are learning python\n",
      "['we', 'are', 'learning', 'python']\n"
     ]
    }
   ],
   "source": [
    "l=[]#first i take an empty list 'l'\n",
    "c=input(\" Enter a character \")#then i take a character as an input in variable 'c'\n",
    "a=input(\" Enter a string \")#then i take a string as an input in variable 'a'\n",
    "s=list(a.split(\" \"))#then i apply split method on 'a' and cast it in 'list' type and store it in 's' variable\n",
    "print(s)#then i show the list 's'\n",
    "i=1#then i take variable 'i=1'\n",
    "while i<len(l):#then apply while loop with a condition 'i<len(l)' so that the loop will run from '1' index to the last index of list 'l' \n",
    "    if i%2!=0:#then i check that index is even or not\n",
    "        s.insert(i,c)#if not so i inserted that character 'c' on 'i' index of list 's'\n",
    "        print(s)#and then i show the list 's'\n",
    "    else:#otherwise\n",
    "        continue#it skip the statement by 'continue' keyword\n",
    "    i=i+1#then i iterate the value of 'i' by '1'"
   ]
  },
  {
   "cell_type": "markdown",
   "id": "a45320b7",
   "metadata": {
    "id": "a45320b7"
   },
   "source": [
    "#### 9. Create a dictionary having three items. Key of each item is the name of a student, value associated with each key is a list of marks in five subjects. Given this dictionary print the average score of each student."
   ]
  },
  {
   "cell_type": "code",
   "execution_count": 10,
   "id": "2vFaqcGP-MmK",
   "metadata": {
    "id": "2vFaqcGP-MmK"
   },
   "outputs": [
    {
     "name": "stdout",
     "output_type": "stream",
     "text": [
      "[59, 60, 75, 88, 94]\n",
      "59\n",
      "60\n",
      "75\n",
      "88\n",
      "94\n",
      "Average marks are :-  75.2\n",
      "[54, 69, 70, 85, 97]\n",
      "54\n",
      "69\n",
      "70\n",
      "85\n",
      "97\n",
      "Average marks are :-  150.2\n",
      "[99, 50, 55, 78, 95]\n",
      "99\n",
      "50\n",
      "55\n",
      "78\n",
      "95\n",
      "Average marks are :-  225.6\n"
     ]
    }
   ],
   "source": [
    "d={\"a\":[59,60,75,88,94],#first i take a dictionary 'd'\n",
    "   \"b\":[54,69,70,85,97],#in which there are three values are 'a','b' and 'c' which are names of students\n",
    "   \"c\":[99,50,55,78,95]}#and marks of five subject marks as keys of each value\n",
    "s=0#then mention the value of 's=0'\n",
    "d1=d.values()#then find out the values of dictionary 'd' with the help of 'values' method\n",
    "d2=list(d1)#then cast the dictionary in 'list' object ans store it in 'd2' variable\n",
    "d2#then i print the list 'd2'\n",
    "for i in d2:#then i iterate the value of list 'd2'\n",
    "    print(i)#then show each value of list 'd2'\n",
    "    for j in i:#then i iterate the keys of each values\n",
    "        print(j)#then show the each value of each key's \n",
    "        s=s+j#and sum up all the marks values of each key's of list 'd2'\n",
    "    avg=s/5#then find the average of all the marks of each value oe student\n",
    "    print(\"Average marks are :- \",avg)#then show the average of each student"
   ]
  },
  {
   "cell_type": "markdown",
   "id": "aba63bd1",
   "metadata": {
    "id": "aba63bd1"
   },
   "source": [
    "#### 10. Take a string as input(may contain repetitive words), print a list consisting of unique words from the given string."
   ]
  },
  {
   "cell_type": "code",
   "execution_count": 77,
   "id": "LAcgERg-NDMj",
   "metadata": {
    "id": "LAcgERg-NDMj"
   },
   "outputs": [
    {
     "name": "stdout",
     "output_type": "stream",
     "text": [
      " Enter a string we are learning python python\n",
      "['we', 'are', 'learning', 'python', 'python']\n",
      " list consisting of unique words :-  ['we', 'are', 'learning']\n"
     ]
    }
   ],
   "source": [
    "l=[]#first i have takeen an empty list 'l'\n",
    "a=input(\" Enter a string \")#then take an input from user as a string\n",
    "s=list(a.split(\" \"))#then i apply split method on 'a' and cast it in 'list' type and store it in 's' variable\n",
    "print(s)#then i show the list 's'\n",
    "for i in s:#then iterate of list 's'\n",
    "    c=a.count(i)#then check each word 'i' of string 'a' comes how many times in list 'a'\n",
    "    if c>1:#if it comes more than '1' time \n",
    "        continue#then skip the statement with the help of 'continue' statement\n",
    "    else:#otherwise\n",
    "        l.append(i)#i inserrt it in list 'l' \n",
    "print(\" list consisting of unique words :- \",l)#and at last show the list 'l' containing unique words of list 'a'"
   ]
  }
 ],
 "metadata": {
  "colab": {
   "provenance": []
  },
  "kernelspec": {
   "display_name": "Python 3 (ipykernel)",
   "language": "python",
   "name": "python3"
  },
  "language_info": {
   "codemirror_mode": {
    "name": "ipython",
    "version": 3
   },
   "file_extension": ".py",
   "mimetype": "text/x-python",
   "name": "python",
   "nbconvert_exporter": "python",
   "pygments_lexer": "ipython3",
   "version": "3.9.13"
  }
 },
 "nbformat": 4,
 "nbformat_minor": 5
}
