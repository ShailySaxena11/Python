{
 "cells": [
  {
   "cell_type": "markdown",
   "id": "c6ec5c42",
   "metadata": {},
   "source": [
    "# Assessment - 3 Gradable\n",
    "\n",
    "- Each question carries 3 or 4 marks\n",
    "- Marks will be assigned in terms of:\n",
    "    \n",
    "    **1. Expected output**\n",
    "    \n",
    "    **2. Quality and Explainability of code**\n",
    "\n",
    "    ***Go back through the script and type a comment above each line explaining in English what it does.***\n",
    "\n",
    "    **3. Copied code, if found, will result in 0 marks for that question. To avoid this make as much comments in the code to explain the approach**"
   ]
  },
  {
   "cell_type": "markdown",
   "id": "8698053e",
   "metadata": {},
   "source": [
    "### 1.\n",
    "\n",
    "Go through the string below and if the length of a word is even print \"even!\"\n",
    "\n",
    "string = 'I know how to print every word in this sentence that has an even number of letters'"
   ]
  },
  {
   "cell_type": "code",
   "execution_count": 12,
   "id": "4dec28a9",
   "metadata": {},
   "outputs": [],
   "source": [
    "s = 'I know how to print every word in this sentence that has an even number of letters'# Firstly I write a string and store in a variable 's'\n",
    "s1=s.split()#then I split that string and store in another variable 's1', split is a pre-defined function and that works to split each words from a sentence\n",
    "l=len(s1)#then I take another variable to store a length of a sentence and pass parentheses in pre-defined length function\n",
    "if l%2==0:#then I checked the length of a sentence is even or not\n",
    "    print(\"even\")#then print the output"
   ]
  },
  {
   "cell_type": "markdown",
   "id": "8569bc4e",
   "metadata": {},
   "source": [
    "### 2. \n",
    "\n",
    "Create a function ``lets_find_88`` Given a list of ints, return True if the array contains a 8 next to a 8 somewhere.\n",
    "- lets_find_88([1, 8, 8]) → True\n",
    "- lets_find_88([1, 8, 1, 8]) → False\n",
    "- lets_find_88([8, 1, 8]) → False"
   ]
  },
  {
   "cell_type": "code",
   "execution_count": 13,
   "id": "9ccfca15",
   "metadata": {},
   "outputs": [
    {
     "name": "stdout",
     "output_type": "stream",
     "text": [
      " True\n"
     ]
    }
   ],
   "source": [
    "def lets_find_88():# I create a function\n",
    "    a=[4,8,8]# I take a list and store in a variable\n",
    "    for i in a:# then I apply for loop on 'a'\n",
    "        b=i# then I store a value of 'i' into 'b'\n",
    "        i=i+1# then I iterate the value of 'i' by 1\n",
    "    if (b==8 & i==8):# then I check the value of 'b' and 'i' is equal to 8 with the help of logical operator\n",
    "        print(\" True\")#after print the output\n",
    "    else:\n",
    "        print(\" False\")\n",
    "            \n",
    "lets_find_88()"
   ]
  },
  {
   "cell_type": "markdown",
   "id": "40759409",
   "metadata": {},
   "source": [
    "### 3.\n",
    "\n",
    " Calculate and display the sum of all the numbers divisible by 7 between 18 and 534.\n",
    " \n",
    " Hint: One way to do this is to loop over a 'range' using 'for' loop and use an 'if' statement inside it."
   ]
  },
  {
   "cell_type": "code",
   "execution_count": 46,
   "id": "f7409469",
   "metadata": {},
   "outputs": [
    {
     "name": "stdout",
     "output_type": "stream",
     "text": [
      "Sum of all the numbers divisible by 7 is :-  20461\n"
     ]
    }
   ],
   "source": [
    "sum=0 #Firstly I take a variable to operate a addtion and store a value in that variable\n",
    "a=range(18,535) #then I use range funtion to get all the numbers between 18 to 534 and store in 'a' variable\n",
    "for i in a: #then I apply for loop on 'a'\n",
    "    if i%7==0: #then I checked which number is divisible by 7\n",
    "        sum=sum+i #then I add all the number which is divisible by 7\n",
    "print(\"Sum of all the numbers divisible by 7 is :- \",sum) #then print the output the sum of all numbers which is divisible by 7"
   ]
  },
  {
   "cell_type": "markdown",
   "id": "0dd3847a",
   "metadata": {},
   "source": [
    "### 4. \n",
    "\n",
    "Create a list containing the following 3 elements:\n",
    "\n",
    "- Subject person had taken\n",
    "- Marks Achieved\n",
    "- a boolean value showing previous programming experience\n",
    "\n",
    "and Complete the following 'print' and 'if' statements by accessing the appropriate elements from my_list."
   ]
  },
  {
   "cell_type": "code",
   "execution_count": 6,
   "id": "5c87efcb",
   "metadata": {},
   "outputs": [
    {
     "name": "stdout",
     "output_type": "stream",
     "text": [
      " Enter subject taken c\n",
      " Enter marks obtained 85\n",
      " Enter enter prev programmin experience 0\n",
      " Enter what you want to see subject\n",
      " subject=  c\n"
     ]
    }
   ],
   "source": [
    "sub=input(\" Enter subject taken \")#First take a subject from user in String\n",
    "marks=int(input(\" Enter marks obtained \"))#then take marks from user in integer\n",
    "exp=bool(input(\" Enter enter prev programmin experience \"))#and then take Previous Experience from user in boolean\n",
    "my_list=[sub,marks,exp]#then give all these data in  list 'my_list'\n",
    "x=input(\" Enter what you want to see \")#then i took an input from user which they want to see amongst 'subject','marks' and 'previous experience'\n",
    "x=x.lower()#then i convert it in lower case(if it will be in uppercase it will converted in smallcase and if it is in smallcase it will be in smallcase already)\n",
    "if x==\"subject\":#if the input will be 'subject'\n",
    "    print(\" subject= \",my_list[0])#then it print the subject name which is given by user and which is at the '0' index in 'my_list' \n",
    "elif x==\"marks\": #and if the input will be 'marks'\n",
    "    print(\" Marks= \",my_list[1])#then it print the marks which is given by user and which is at the '1' index in 'my_list'\n",
    "elif x==\"previousexperience\":#and if the input will be 'previous experience'\n",
    "    print(\" Previous Experience= \",my_list[2])#then it print the experience which is given by user and which is at the '2' index in 'my_list'\n",
    "else:#else if the input will be something else other than 'subject','marks' and 'previous experience'\n",
    "    print(\" Please Enter Correct Value \")#it will print 'Enter he correct input '"
   ]
  },
  {
   "cell_type": "markdown",
   "id": "a54510f0",
   "metadata": {},
   "source": [
    "### 5.\n",
    "\n",
    "Write a function to return True if the first and last number of a given list is same. If numbers are different then return False.\n",
    "\n",
    "- [11, 13, 17, 19, 11] --> True\n",
    "- [24, 36, 12, 31, 42] --> False"
   ]
  },
  {
   "cell_type": "code",
   "execution_count": 65,
   "id": "5d53ba1f",
   "metadata": {},
   "outputs": [
    {
     "name": "stdout",
     "output_type": "stream",
     "text": [
      "True\n"
     ]
    }
   ],
   "source": [
    "def check_same_num():#First I create a function name 'check_same_num'\n",
    "    a=[11,13,17,19,11]#then i take a list of some numbers in variable 'a'\n",
    "    if(a[0]==a[len(a)-1]):#then i check the first index number and last index number is same or not with the help of 'len' and 'if' statement\n",
    "        print(\"True\")#if same it will print'true' otherwise 'false'\n",
    "    else:\n",
    "        print(\"False\")\n",
    "check_same_num()"
   ]
  }
 ],
 "metadata": {
  "kernelspec": {
   "display_name": "Python 3 (ipykernel)",
   "language": "python",
   "name": "python3"
  },
  "language_info": {
   "codemirror_mode": {
    "name": "ipython",
    "version": 3
   },
   "file_extension": ".py",
   "mimetype": "text/x-python",
   "name": "python",
   "nbconvert_exporter": "python",
   "pygments_lexer": "ipython3",
   "version": "3.9.13"
  }
 },
 "nbformat": 4,
 "nbformat_minor": 5
}
