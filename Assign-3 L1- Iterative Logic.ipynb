{
 "cells": [
  {
   "cell_type": "markdown",
   "id": "9acd52dd",
   "metadata": {
    "id": "9acd52dd"
   },
   "source": [
    "# Assessment - 4 Gradable\n",
    "\n",
    "- Each question carries 5 marks\n",
    "- Marks will be assigned in terms of:\n",
    "    \n",
    "    **1. Expected output**\n",
    "    \n",
    "    **2. Quality and Explainability of code**\n",
    "\n",
    "    ***Go back through the script and type a comment above each line explaining in English what it does.***\n",
    "\n",
    "    **3. Copied code, if found, will result in 0 marks for that question. To avoid this make as much comments in the code to explain the approach**"
   ]
  },
  {
   "cell_type": "markdown",
   "id": "1dd6b730",
   "metadata": {
    "id": "1dd6b730"
   },
   "source": [
    "### 1. \n",
    "\n",
    "Write a function ``clap_tap`` that prints the integers from 1 to 100. But for multiples of three print \"Clap\" instead of the number, and for the multiples of five print \"Tap\". For numbers which are multiples of both three and five print \"ClapTap\"."
   ]
  },
  {
   "cell_type": "code",
   "execution_count": 10,
   "id": "04ae6248",
   "metadata": {
    "id": "04ae6248"
   },
   "outputs": [
    {
     "name": "stdout",
     "output_type": "stream",
     "text": [
      "1\n",
      "2\n",
      "Clap\n",
      "4\n",
      "Tap\n",
      "Clap\n",
      "7\n",
      "8\n",
      "Clap\n",
      "Tap\n",
      "11\n",
      "Clap\n",
      "13\n",
      "14\n",
      "ClapTap\n",
      "16\n",
      "17\n",
      "Clap\n",
      "19\n",
      "Tap\n",
      "Clap\n",
      "22\n",
      "23\n",
      "Clap\n",
      "Tap\n",
      "26\n",
      "Clap\n",
      "28\n",
      "29\n",
      "ClapTap\n",
      "31\n",
      "32\n",
      "Clap\n",
      "34\n",
      "Tap\n",
      "Clap\n",
      "37\n",
      "38\n",
      "Clap\n",
      "Tap\n",
      "41\n",
      "Clap\n",
      "43\n",
      "44\n",
      "ClapTap\n",
      "46\n",
      "47\n",
      "Clap\n",
      "49\n",
      "Tap\n",
      "Clap\n",
      "52\n",
      "53\n",
      "Clap\n",
      "Tap\n",
      "56\n",
      "Clap\n",
      "58\n",
      "59\n",
      "ClapTap\n",
      "61\n",
      "62\n",
      "Clap\n",
      "64\n",
      "Tap\n",
      "Clap\n",
      "67\n",
      "68\n",
      "Clap\n",
      "Tap\n",
      "71\n",
      "Clap\n",
      "73\n",
      "74\n",
      "ClapTap\n",
      "76\n",
      "77\n",
      "Clap\n",
      "79\n",
      "Tap\n",
      "Clap\n",
      "82\n",
      "83\n",
      "Clap\n",
      "Tap\n",
      "86\n",
      "Clap\n",
      "88\n",
      "89\n",
      "ClapTap\n",
      "91\n",
      "92\n",
      "Clap\n",
      "94\n",
      "Tap\n",
      "Clap\n",
      "97\n",
      "98\n",
      "Clap\n",
      "Tap\n"
     ]
    }
   ],
   "source": [
    "def clap_tap():#first i create a function name 'clap_tap'\n",
    "    a=range(1,101)#in which i give a range from 0 to 100\n",
    "    for i in a:#then i iterate it with the help of for loop\n",
    "        if i%3==0 and i%5==0:#then i checked it that is it divisible by '3' and '5' both (i checked it by both first because if i give with any one variable first so it will always get true by that condition,even if by both variable will be true)\n",
    "            print(\"ClapTap\")#then i print(\"ClapTap\")\n",
    "        elif i%3==0:#then i checked it that is it divisible by 3\n",
    "            print(\"Clap\")#if yes so i print(\"Clap\")\n",
    "        elif i%5==0:#then i checked it that is it divisible by 5\n",
    "            print(\"Tap\")#if yes so i print(\"Tap\")\n",
    "        else:#other than that,I print(that integer)\n",
    "            print(i)\n",
    "clap_tap()"
   ]
  },
  {
   "cell_type": "markdown",
   "id": "ffc26930",
   "metadata": {
    "id": "ffc26930"
   },
   "source": [
    "### 2. \n",
    "\n",
    "ANIMAL CRACKERS: Write a function takes a two-word string and returns True if both words begin with same letter and returns False if both words begin with different letter\n",
    "- animal_crackers('Levelheaded Lion') --> True\n",
    "- animal_crackers('Cute Kangaroo') --> False"
   ]
  },
  {
   "cell_type": "code",
   "execution_count": 46,
   "id": "dbaf2f2a",
   "metadata": {
    "id": "dbaf2f2a"
   },
   "outputs": [
    {
     "name": "stdout",
     "output_type": "stream",
     "text": [
      "true\n"
     ]
    }
   ],
   "source": [
    "def animal_crackers(x):#first I create a function name 'animal_crackers' with an argument 'x'\n",
    "    y=x.lower().split()#then i split that argument and convert it in lowercase and store it in 'y' variable \n",
    "    if y[0][0]==y[1][0]:#then i check that first index letter of first index word and first index letter of second index word is same or not \n",
    "        print(\"true\")#it will print 'true' if the condition is correct\n",
    "    else:#otherwise\n",
    "        print(\"false\")#it will print 'false'\n",
    "\n",
    "        \n",
    "animal_crackers('cute Cat') #and at the end i call that function   "
   ]
  },
  {
   "cell_type": "markdown",
   "id": "eec7fc6c",
   "metadata": {
    "id": "eec7fc6c"
   },
   "source": [
    "### 3. \n",
    "\n",
    "Create a function ``shout_out`` Given a string, return a string where:\n",
    "#### for every character in the original there are three characters\n",
    "\n",
    "    - shout_out('character') --> 'ccchhhaaarrraaacccttteeerrr'\n",
    "    - shout_out('original') --> 'ooorrriiigggiiinnnaaalll'"
   ]
  },
  {
   "cell_type": "code",
   "execution_count": 3,
   "id": "4de40729",
   "metadata": {
    "id": "4de40729"
   },
   "outputs": [
    {
     "name": "stdout",
     "output_type": "stream",
     "text": [
      "HHH\n",
      "ooo\n",
      "rrr\n",
      "sss\n",
      "eee\n"
     ]
    }
   ],
   "source": [
    "def shout_out(x):#first i create a function name 'shout_out' with an argument 'x'\n",
    "    for i in x:#then i iterate the data of that argument\n",
    "        z=i*3#then i take each letter thrice in a variable 'z'\n",
    "        print(z)#then output will be shown\n",
    "shout_out('Horse')#and at last i call that function"
   ]
  },
  {
   "cell_type": "markdown",
   "id": "6739aeef",
   "metadata": {
    "id": "6739aeef"
   },
   "source": [
    "### 4. \n",
    "\n",
    "Create a function ``ignore_6_to_9`` that returns the sum of the numbers in the array, except ignore sections of numbers starting with a 6 and extending to the next 9 (every 6 will be followed by at least one 9). Return 0 for no numbers.\n",
    " \n",
    "- ignore_6_to_9([1, 3, 5]) --> 9\n",
    "- ignore_6_to_9([4, 5, 6, 7, 8, 9]) --> 9\n",
    "- ignore_6_to_9([2, 1, 6, 9, 11]) --> 14"
   ]
  },
  {
   "cell_type": "code",
   "execution_count": 169,
   "id": "1ec4e63e",
   "metadata": {
    "id": "1ec4e63e"
   },
   "outputs": [
    {
     "name": "stdout",
     "output_type": "stream",
     "text": [
      "how many integer you want to enter5\n",
      " Enter a no : 10\n",
      " Enter a no : 20\n",
      " Enter a no : 20\n",
      " Enter a no : 40\n",
      " Enter a no : 50\n",
      "320\n"
     ]
    }
   ],
   "source": [
    "def ignore_6_to_9():#first i create a function name 'ignore_6_to_9'\n",
    "    s=0#then i take an empty variable 's=0'\n",
    "    b=[]#then i take an empty list 'b'\n",
    "    z=1#then mention the variable 'z' with the value of '1'\n",
    "    a=int(input(\"how many integer you want to enter\"))#aftre that i take an input from user,that how many integer user want to give in variable 'a'\n",
    "    while z<=a:#then apply while loop with the condition that the loop will be running until the value of 'z' will be equal to the value of 'a'\n",
    "        l=int(input(\" Enter a no : \"))#then i take integers in variable 'l'\n",
    "        b.append(l)#and store it in list 'b' one by one with the help of append function\n",
    "        for i in b:#then i iterate data from listb 'b'\n",
    "            if i==range(6,10):#then if the value of 'b' comes between the range of 6 to 9\n",
    "                continue#skip that particular data from list 'b' with the help of 'continue' statement\n",
    "            else:#otherwise\n",
    "                s=s+i#sumup all the integer from list 'b'\n",
    "        z+=1#then iterate the value of 'z' by 1\n",
    "    print(s)#then show the result of sum 's'\n",
    "    \n",
    "ignore_6_to_9()#at last call the functiion 'ignore_6_to_9'"
   ]
  },
  {
   "cell_type": "markdown",
   "id": "af46e819",
   "metadata": {
    "id": "af46e819"
   },
   "source": [
    "### 5.\n",
    "\n",
    "Write a program to iterate the first 10 numbers and in each iteration, print the sum of the current and previous number.\n",
    "\n",
    "- Current Number 0 Previous Number  0  Sum:  0\n",
    "- Current Number 1 Previous Number  0  Sum:  1 and so on"
   ]
  },
  {
   "cell_type": "code",
   "execution_count": 170,
   "id": "830a0664",
   "metadata": {
    "id": "830a0664"
   },
   "outputs": [
    {
     "name": "stdout",
     "output_type": "stream",
     "text": [
      "the sum of the current and previous number is :-  55\n"
     ]
    }
   ],
   "source": [
    "s=0#first take a variable 's=0'\n",
    "a=[1,2,3,4,5,6,7,8,9,10]#then take a list 'a' with first 10 numbers\n",
    "for i in a:#then i itearte the value of list 'a' with the help of for loop\n",
    "    s=s+i#then i store the sum of all the value in variable 's'\n",
    "print(\"the sum of the current and previous number is :- \",s)#and at last will show the result or output "
   ]
  }
 ],
 "metadata": {
  "colab": {
   "provenance": []
  },
  "kernelspec": {
   "display_name": "Python 3 (ipykernel)",
   "language": "python",
   "name": "python3"
  },
  "language_info": {
   "codemirror_mode": {
    "name": "ipython",
    "version": 3
   },
   "file_extension": ".py",
   "mimetype": "text/x-python",
   "name": "python",
   "nbconvert_exporter": "python",
   "pygments_lexer": "ipython3",
   "version": "3.9.13"
  }
 },
 "nbformat": 4,
 "nbformat_minor": 5
}
