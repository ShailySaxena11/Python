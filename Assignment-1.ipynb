{
 "cells": [
  {
   "cell_type": "markdown",
   "id": "d3b1b279",
   "metadata": {},
   "source": [
    "# Assignement 1.1"
   ]
  },
  {
   "cell_type": "code",
   "execution_count": 1,
   "id": "6dfc483b",
   "metadata": {},
   "outputs": [
    {
     "ename": "SyntaxError",
     "evalue": "unmatched ')' (3234644225.py, line 1)",
     "output_type": "error",
     "traceback": [
      "\u001b[1;36m  File \u001b[1;32m\"C:\\Users\\dell\\AppData\\Local\\Temp\\ipykernel_5028\\3234644225.py\"\u001b[1;36m, line \u001b[1;32m1\u001b[0m\n\u001b[1;33m    Q1)\u001b[0m\n\u001b[1;37m      ^\u001b[0m\n\u001b[1;31mSyntaxError\u001b[0m\u001b[1;31m:\u001b[0m unmatched ')'\n"
     ]
    }
   ],
   "source": [
    "Q1)\n",
    "\n",
    "==>"
   ]
  },
  {
   "cell_type": "code",
   "execution_count": null,
   "id": "ae26599b",
   "metadata": {},
   "outputs": [],
   "source": [
    "Q2)\n",
    "\n",
    "==>(i) d_difficult={'k1':[{'nest_key':['this is deep',['starsgile']]}]}\n",
    "       d_difficult['k1'][0]#first we are taking the [0] index value of key 'k1', which is 'nest_key'\n",
    "       d_difficult['k1'][0]['nest_key'][1][0]#then we are taking [1] index of key 'nest_key', which is 'staragile' but we are taking it with [0] index as we dont want our output in list\n",
    "        \n",
    "==>(ii)d_irritating={'k1':[1,2,{'k2':['this is not easy',{'veryIrriating':[1,2,['Staragile']]}]}]}\n",
    "       d_irritating['k1'][2]['k2'][1]['veryIrriating'][2][0]#Similar to the prev. one we are taking [2] index of key 'k1',which is 'k2' and then we are taking [1] index of 'k2' which is 'veryIrriating' and then we are taking [2] index of key 'veryIrriating' with [0] index as we dont want result in list.\n",
    "    "
   ]
  },
  {
   "cell_type": "code",
   "execution_count": null,
   "id": "c9091e5a",
   "metadata": {},
   "outputs": [],
   "source": [
    "Q3)\n",
    "\n",
    "==>a=input(\"Enter a Word \")# first we are taking a word as an input\n",
    "a1=list(a)# then we are casting it in list as we want index of our input\n",
    "a1[0::2]# then we are giving range starting with an even index which is [0] going till the end by default and make it a jump by 2 as we want only even indexing"
   ]
  },
  {
   "cell_type": "code",
   "execution_count": null,
   "id": "5b515a71",
   "metadata": {},
   "outputs": [],
   "source": [
    "Q4)\n",
    "\n",
    "==>a=3.8# here is our given value\n",
    "type(a)# whose datatype is float\n",
    "a1=int(a)# we are converting it in integer type by casting method \n",
    "type(a1)# now checking the type of our data, it becomes integer after casting\n",
    "a2=complex(a)# now we are making our data complex type by again same method 'casting'\n",
    "type(a2)# then we are checking the datatype it shows complex datatype\n",
    "a3=bin(a1)# now we are converting our data into binary form, and we have a bin() in python to convert our datatype into binary but we can't change the float type data into binary so we will first convert our data into an integer type (which we have as an 'a1') and now we are coverting our integer type data into 'binary'.\n",
    "type(a3)# then when we are checking our datatype it will show 'string' because binary datatype is shown as 'str' datatype in python\n",
    "a4=hex(a1)# now we are changing our data into hexadecimal,again we cant change float type of data so we are converting our integer type of data which is 'a1' with the help of hex method.\n",
    "type(a4)# then we are checking the datatype it will also show as 'str'"
   ]
  },
  {
   "cell_type": "code",
   "execution_count": null,
   "id": "b8bbd02e",
   "metadata": {},
   "outputs": [],
   "source": [
    "Q5)\n",
    "\n",
    "==>a=input(\"Enter First name \")\n",
    "b=input(\"Enter Second name \")\n",
    "c=input(\"Enter Third name \")\n",
    "d=input(\"Enter Forth name \")\n",
    "e=input(\"Enter Fifth name \") # first we have taken the five name as as string from user\n",
    "f=(a,b,c,d,e)# then we combined it and make it as a list\n",
    "t1=tuple(f)# and then we changed it in tuple \n",
    "t1# and at last we print the result which is stored in variable 't1'\n",
    "\n"
   ]
  },
  {
   "cell_type": "markdown",
   "id": "dc824bf9",
   "metadata": {},
   "source": [
    "# Assignement 1.2"
   ]
  },
  {
   "cell_type": "code",
   "execution_count": null,
   "id": "c83197c6",
   "metadata": {},
   "outputs": [],
   "source": [
    "Q1)\n",
    "\n",
    "==>p=int(input(\"Enter a Principal Amount :-\"))# first we have taken the value of principle as an input in integer datatype\n",
    "r=float(input(\"Enter the Rate :-\"))# then we have taken the rate in float type of data\n",
    "t=int(input(\"Enter the time :-\"))# and at last we have taken the time of integer datatype\n",
    "si=(p*r*t)/100# then we apply the formula of simple interest and stored the result in 'si'\n",
    "print(si)# and at last we print our output."
   ]
  },
  {
   "cell_type": "code",
   "execution_count": null,
   "id": "54765804",
   "metadata": {},
   "outputs": [],
   "source": [
    "Q2)\n",
    "\n",
    "==>s=input(\"Enter the String :-\")# first we have taken a string as an input\n",
    "s1=list(s)# then we convert it in as a list\n",
    "print(\"Total No. of Words in a Sting is :-\",len(s1))# and then we apply a list method which is 'len()' to count the no. of words present in our string"
   ]
  },
  {
   "cell_type": "code",
   "execution_count": null,
   "id": "830bdbcc",
   "metadata": {},
   "outputs": [],
   "source": [
    "Q3)\n",
    "\n",
    "==>l=[]\n",
    "x=int(input(\"Enter how many number you want to add \"))# first we took the no. of integer user want to give\n",
    "y=1# then we taken a value in one variable to apply our condition\n",
    "s=0# then we take our sum value as zero on 's' variable\n",
    "while y<=x:# then we apply a condition because we wanrt our loop to process the no. of integer our user gave\n",
    "    a=int(input(\"Enter a number \"))# then we took the values in variable 'a'\n",
    "    l.append(a)# and then we take a list of it in our empty list variable 'l' with the help of append method of list\n",
    "    y+=1# then we iterate our value of 'y' to proceed our loop further\n",
    "print(l)# and then we print our list 'l'\n",
    "for i in l:# then we apply for loop in out=r list 'l'\n",
    "    s=s+i# store sum of out list values in 's'\n",
    "print(\"Sum Of All Number Is :-\",s)# print the sum values\n",
    "avg=s/x# calculate average and store it in 'avg' var.\n",
    "print(\"Average Of All Number Is :-\",avg)#print the average result\n",
    "ma=max(l)# apply max() to find maximum value n list\n",
    "print(\"Maximum Number Is :- \",ma)#and print maximum value\n",
    "mi=min(l)# apply min() method to find minimum value and sstore it in 'mi' var.\n",
    "print(\"Minimum Number Is :- \",mi)# then print the minimum value"
   ]
  },
  {
   "cell_type": "code",
   "execution_count": null,
   "id": "b69f52d5",
   "metadata": {},
   "outputs": [],
   "source": [
    "Q4)\n",
    "\n",
    "==>#For Student One\n",
    "Student_1=[]\n",
    "y=1\n",
    "s=0\n",
    "while y<=5:\n",
    "    a=int(input(\"Enter 5 Subjects Mark's Of Student 1 \"))\n",
    "    Student_1.append(a)\n",
    "    y+=1\n",
    "print(Student_1)\n",
    "for i in Student_1:\n",
    "    s=s+i\n",
    "avg=s/5\n",
    "print(\"Average Of 5 Subjects Mark's Of Student 1 Is :-\",avg)\n",
    "\n",
    "\n",
    "#For Student Two\n",
    "\n",
    "Student_2=[]\n",
    "y=1\n",
    "s=0\n",
    "while y<=5:\n",
    "    a=int(input(\"Enter 5 Subjects Mark's Of Student 2 \"))\n",
    "    Student_2.append(a)\n",
    "    y+=1\n",
    "print(Student_2)\n",
    "for i in Student_2:\n",
    "    s=s+i\n",
    "avg=s/5\n",
    "print(\"Average Of 5 Subjects Mark's Of Student 2 Is :-\",avg)\n",
    "\n",
    "\n",
    "#For Student Three\n",
    "\n",
    "Student_3=[]\n",
    "y=1\n",
    "s=0\n",
    "while y<=5:\n",
    "    a=int(input(\"Enter 5 Subjects Mark's Of Student 3 \"))\n",
    "    Student_3.append(a)\n",
    "    y+=1\n",
    "print(Student_3)\n",
    "for i in Student_3:\n",
    "    s=s+i\n",
    "avg=s/5\n",
    "print(\"Average Of 5 Subjects Mark's Of Student 3 Is :-\",avg)\n"
   ]
  },
  {
   "cell_type": "code",
   "execution_count": null,
   "id": "183e5e5b",
   "metadata": {},
   "outputs": [],
   "source": [
    "Q6)\n",
    "\n",
    "==>a=int(input(\"Enter First Number \"))\n",
    "b=int(input(\"Enter Second Number \"))\n",
    "print(\"Before Swapping \")\n",
    "print(\"a= \",a)\n",
    "print(\"b= \",b)\n",
    "a,b=b,a\n",
    "print(\"After Swapping \")\n",
    "print(\"a= \",a)\n",
    "print(\"b= \",b)"
   ]
  },
  {
   "cell_type": "code",
   "execution_count": null,
   "id": "522c2f11",
   "metadata": {},
   "outputs": [],
   "source": [
    "Q7)\n",
    "\n",
    "==>l=[]\n",
    "y=1\n",
    "s=0\n",
    "s1=0\n",
    "while y<=10:\n",
    "    a=int(input(\"Enter 10 Marks out of 100 \"))\n",
    "    l.append(a)\n",
    "    y+=1\n",
    "print(l)\n",
    "tom=l[0:10:2]\n",
    "print(tom)\n",
    "for i in tom:\n",
    "    s=s+i\n",
    "avg_tom=s/5\n",
    "print(\"Average Mark's Of Tom is :- \",avg_tom)\n",
    "\n",
    "jon=l[1:10:2]\n",
    "print(jon)\n",
    "for i in jon:\n",
    "    s1=s1+i\n",
    "avg_jon=s1/5\n",
    "print(\"Average Mark's Of Tom is :- \",avg_jon)"
   ]
  },
  {
   "cell_type": "code",
   "execution_count": null,
   "id": "1f72b002",
   "metadata": {},
   "outputs": [],
   "source": [
    "Q9)\n",
    "\n",
    "==>d={\"a\":[59,60,75,88,94],\n",
    "   \"b\":[54,69,70,85,97],\n",
    "   \"c\":[99,50,55,78,95]}\n",
    "s=0\n",
    "d1=d.values()\n",
    "d2=list(d1)\n",
    "d2\n",
    "for i in d2:\n",
    "    print(i)\n",
    "    for j in i:\n",
    "        print(j)\n",
    "        s=s+j\n",
    "    print(s)\n",
    "    avg=s/5\n",
    "    print(avg)"
   ]
  },
  {
   "cell_type": "code",
   "execution_count": null,
   "id": "c927a39b",
   "metadata": {},
   "outputs": [],
   "source": [
    "Q10)\n",
    "\n",
    "==>r=[]\n",
    "a=input(\"Enter a String \")\n",
    "b=list(a)\n",
    "b\n",
    "for i in b:\n",
    "    print(i)\n",
    "    if i not in b:\n",
    "        r.append(i)\n",
    "print(r)"
   ]
  }
 ],
 "metadata": {
  "kernelspec": {
   "display_name": "Python 3 (ipykernel)",
   "language": "python",
   "name": "python3"
  },
  "language_info": {
   "codemirror_mode": {
    "name": "ipython",
    "version": 3
   },
   "file_extension": ".py",
   "mimetype": "text/x-python",
   "name": "python",
   "nbconvert_exporter": "python",
   "pygments_lexer": "ipython3",
   "version": "3.9.13"
  }
 },
 "nbformat": 4,
 "nbformat_minor": 5
}
